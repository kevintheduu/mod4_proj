{
 "cells": [
  {
   "cell_type": "code",
   "execution_count": 3,
   "metadata": {},
   "outputs": [],
   "source": [
    "# !pip install praw"
   ]
  },
  {
   "cell_type": "code",
   "execution_count": 4,
   "metadata": {},
   "outputs": [],
   "source": [
    "# !pip install --upgrade pip"
   ]
  },
  {
   "cell_type": "code",
   "execution_count": 30,
   "metadata": {},
   "outputs": [],
   "source": [
    "import praw\n",
    "import json\n",
    "from PIL import Image\n",
    "import urllib.request\n",
    "import numpy as np"
   ]
  },
  {
   "cell_type": "code",
   "execution_count": 4,
   "metadata": {},
   "outputs": [],
   "source": [
    "url = 'https://www.reddit.com/'\n",
    "with open('/Users/patrickfuller/.secrets/reddit_api.json') as f:\n",
    "    params = json.load(f)"
   ]
  },
  {
   "cell_type": "code",
   "execution_count": 5,
   "metadata": {},
   "outputs": [],
   "source": [
    "reddit = praw.Reddit(client_id=params['client_id'], \n",
    "                     client_secret=params['api_key'],\n",
    "                     password=params['password'], \n",
    "                     user_agent='explore_json accessAPI:v0.0.1 (by /u/patfullah)',\n",
    "                     username=params['username'])"
   ]
  },
  {
   "cell_type": "code",
   "execution_count": 6,
   "metadata": {},
   "outputs": [],
   "source": [
    "subreddit_news = reddit.subreddit('news')"
   ]
  },
  {
   "cell_type": "code",
   "execution_count": 7,
   "metadata": {},
   "outputs": [],
   "source": [
    "subreddit_itap = reddit.subreddit('itookapicture')"
   ]
  },
  {
   "cell_type": "code",
   "execution_count": 8,
   "metadata": {},
   "outputs": [
    {
     "data": {
      "text/plain": [
       "('news', 'itookapicture')"
      ]
     },
     "execution_count": 8,
     "metadata": {},
     "output_type": "execute_result"
    }
   ],
   "source": [
    "subreddit_news.display_name, subreddit_itap.display_name"
   ]
  },
  {
   "cell_type": "code",
   "execution_count": 9,
   "metadata": {},
   "outputs": [],
   "source": [
    "submission = subreddit_itap.top().next()"
   ]
  },
  {
   "cell_type": "code",
   "execution_count": 10,
   "metadata": {},
   "outputs": [
    {
     "data": {
      "text/plain": [
       "{'_reddit': <praw.reddit.Reddit at 0x10e4e6eb8>,\n",
       " 'approved_at_utc': None,\n",
       " 'subreddit': Subreddit(display_name='itookapicture'),\n",
       " 'selftext': '',\n",
       " 'author_fullname': 't2_bzmgj',\n",
       " 'saved': False,\n",
       " 'mod_reason_title': None,\n",
       " 'gilded': 3,\n",
       " 'clicked': False,\n",
       " 'title': 'ITAP of my friend',\n",
       " 'link_flair_richtext': [],\n",
       " 'subreddit_name_prefixed': 'r/itookapicture',\n",
       " 'hidden': False,\n",
       " 'pwls': 6,\n",
       " 'link_flair_css_class': None,\n",
       " 'downs': 0,\n",
       " 'thumbnail_height': 140,\n",
       " 'hide_score': False,\n",
       " 'name': 't3_7t4f5h',\n",
       " 'quarantine': False,\n",
       " 'link_flair_text_color': 'dark',\n",
       " 'author_flair_background_color': '',\n",
       " 'subreddit_type': 'public',\n",
       " 'ups': 46156,\n",
       " 'total_awards_received': 3,\n",
       " 'media_embed': {},\n",
       " 'thumbnail_width': 140,\n",
       " 'author_flair_template_id': None,\n",
       " 'is_original_content': False,\n",
       " 'user_reports': [],\n",
       " 'secure_media': None,\n",
       " 'is_reddit_media_domain': False,\n",
       " 'is_meta': False,\n",
       " 'category': None,\n",
       " 'secure_media_embed': {},\n",
       " 'link_flair_text': None,\n",
       " 'can_mod_post': False,\n",
       " 'score': 46156,\n",
       " 'approved_by': None,\n",
       " 'thumbnail': 'https://b.thumbs.redditmedia.com/gYIGW2M6D1nYBCRcsd8b_v22oUwpbye-mky9Gt31wEM.jpg',\n",
       " 'edited': False,\n",
       " 'author_flair_css_class': 'noflair',\n",
       " 'author_flair_richtext': [],\n",
       " 'gildings': {'gid_2': 3},\n",
       " 'post_hint': 'link',\n",
       " 'content_categories': ['photography'],\n",
       " 'is_self': False,\n",
       " 'mod_note': None,\n",
       " 'created': 1517001361.0,\n",
       " 'link_flair_type': 'text',\n",
       " 'wls': 6,\n",
       " 'banned_by': None,\n",
       " 'author_flair_type': 'text',\n",
       " 'domain': 'imgur.com',\n",
       " 'selftext_html': None,\n",
       " 'likes': None,\n",
       " 'suggested_sort': None,\n",
       " 'banned_at_utc': None,\n",
       " 'view_count': None,\n",
       " 'archived': True,\n",
       " 'no_follow': False,\n",
       " 'is_crosspostable': True,\n",
       " 'pinned': False,\n",
       " 'over_18': False,\n",
       " 'preview': {'images': [{'source': {'url': 'https://external-preview.redd.it/zfjtVV6WHqN4RRIWMwKGPuDuK2BbmQ_t5zEKQ0dorVg.jpg?auto=webp&s=b04bcc06a4c28fdbed8529dd775668eacc7fd9f6',\n",
       "     'width': 848,\n",
       "     'height': 1280},\n",
       "    'resolutions': [{'url': 'https://external-preview.redd.it/zfjtVV6WHqN4RRIWMwKGPuDuK2BbmQ_t5zEKQ0dorVg.jpg?width=108&crop=smart&auto=webp&s=af44d331b2127d8cf5e7f762c66ffc7a9b94dbb3',\n",
       "      'width': 108,\n",
       "      'height': 163},\n",
       "     {'url': 'https://external-preview.redd.it/zfjtVV6WHqN4RRIWMwKGPuDuK2BbmQ_t5zEKQ0dorVg.jpg?width=216&crop=smart&auto=webp&s=cc9902e18e9c0187d1cf1b8194edc1faf860c73d',\n",
       "      'width': 216,\n",
       "      'height': 326},\n",
       "     {'url': 'https://external-preview.redd.it/zfjtVV6WHqN4RRIWMwKGPuDuK2BbmQ_t5zEKQ0dorVg.jpg?width=320&crop=smart&auto=webp&s=411a193f34ad0f3d53a591ca321e35306a47af9e',\n",
       "      'width': 320,\n",
       "      'height': 483},\n",
       "     {'url': 'https://external-preview.redd.it/zfjtVV6WHqN4RRIWMwKGPuDuK2BbmQ_t5zEKQ0dorVg.jpg?width=640&crop=smart&auto=webp&s=4537302ead0e006b407c5786d2219490c51e5709',\n",
       "      'width': 640,\n",
       "      'height': 966}],\n",
       "    'variants': {},\n",
       "    'id': 'Bnqvg3FvYJFZlWsl6dw0ASZKoEDoB2MYdOAOdm0LJJM'}],\n",
       "  'enabled': False},\n",
       " 'all_awardings': [{'is_enabled': True,\n",
       "   'count': 3,\n",
       "   'subreddit_id': None,\n",
       "   'description': 'Gold Award',\n",
       "   'coin_reward': 100,\n",
       "   'icon_width': 512,\n",
       "   'icon_url': 'https://www.redditstatic.com/gold/awards/icon/gold_512.png',\n",
       "   'days_of_premium': 7,\n",
       "   'icon_height': 512,\n",
       "   'resized_icons': [{'url': 'https://www.redditstatic.com/gold/awards/icon/gold_16.png',\n",
       "     'width': 16,\n",
       "     'height': 16},\n",
       "    {'url': 'https://www.redditstatic.com/gold/awards/icon/gold_32.png',\n",
       "     'width': 32,\n",
       "     'height': 32},\n",
       "    {'url': 'https://www.redditstatic.com/gold/awards/icon/gold_48.png',\n",
       "     'width': 48,\n",
       "     'height': 48},\n",
       "    {'url': 'https://www.redditstatic.com/gold/awards/icon/gold_64.png',\n",
       "     'width': 64,\n",
       "     'height': 64},\n",
       "    {'url': 'https://www.redditstatic.com/gold/awards/icon/gold_128.png',\n",
       "     'width': 128,\n",
       "     'height': 128}],\n",
       "   'days_of_drip_extension': 0,\n",
       "   'award_type': 'global',\n",
       "   'coin_price': 500,\n",
       "   'id': 'gid_2',\n",
       "   'name': 'Gold'}],\n",
       " 'media_only': False,\n",
       " 'can_gild': True,\n",
       " 'spoiler': False,\n",
       " 'locked': False,\n",
       " 'author_flair_text': '',\n",
       " 'visited': False,\n",
       " 'num_reports': None,\n",
       " 'distinguished': None,\n",
       " 'subreddit_id': 't5_2r1tc',\n",
       " 'mod_reason_by': None,\n",
       " 'removal_reason': None,\n",
       " 'link_flair_background_color': '',\n",
       " 'id': '7t4f5h',\n",
       " 'is_robot_indexable': True,\n",
       " 'report_reasons': None,\n",
       " 'author': Redditor(name='Martinoice'),\n",
       " 'num_crossposts': 2,\n",
       " 'num_comments': 470,\n",
       " 'send_replies': True,\n",
       " 'whitelist_status': 'all_ads',\n",
       " 'contest_mode': False,\n",
       " 'mod_reports': [],\n",
       " 'author_patreon_flair': False,\n",
       " 'author_flair_text_color': 'dark',\n",
       " 'permalink': '/r/itookapicture/comments/7t4f5h/itap_of_my_friend/',\n",
       " 'parent_whitelist_status': 'all_ads',\n",
       " 'stickied': False,\n",
       " 'url': 'https://imgur.com/CvjYQZl',\n",
       " 'subreddit_subscribers': 1714684,\n",
       " 'created_utc': 1516972561.0,\n",
       " 'media': None,\n",
       " 'is_video': False,\n",
       " '_fetched': False,\n",
       " 'comment_limit': 2048,\n",
       " 'comment_sort': 'best',\n",
       " '_comments_by_id': {}}"
      ]
     },
     "execution_count": 10,
     "metadata": {},
     "output_type": "execute_result"
    }
   ],
   "source": [
    "vars(submission)"
   ]
  },
  {
   "cell_type": "code",
   "execution_count": 11,
   "metadata": {},
   "outputs": [
    {
     "name": "stdout",
     "output_type": "stream",
     "text": [
      "ITAP of my friend\n",
      "ITAP , only one\n",
      "ITAP of a VW Bus reflection\n",
      "ITAP of my brother fishing in the fog during the golden hour.\n",
      "ITAP after a tornado in Gum Creek Tennessee\n"
     ]
    }
   ],
   "source": [
    "for submission in subreddit_itap.top(limit=5):\n",
    "    print(submission.title)"
   ]
  },
  {
   "cell_type": "code",
   "execution_count": 40,
   "metadata": {},
   "outputs": [
    {
     "name": "stdout",
     "output_type": "stream",
     "text": [
      "https://external-preview.redd.it/zfjtVV6WHqN4RRIWMwKGPuDuK2BbmQ_t5zEKQ0dorVg.jpg?auto=webp&s=b04bcc06a4c28fdbed8529dd775668eacc7fd9f6\n",
      "https://external-preview.redd.it/qd8eiaEhi75MoCrolfp-gXa0nLeoErnbFL7uxsAKjwo.jpg?auto=webp&s=8e66b164a1f905076cbb74e810b376e0191fb85b\n",
      "https://preview.redd.it/3yxl6dr580g21.jpg?auto=webp&s=84e2604eae59286cbbd08650cfb29e389326f063\n"
     ]
    }
   ],
   "source": [
    "for submission in subreddit_itap.top(limit=3):\n",
    "    print(submission.preview['images'][0]['source']['url'])"
   ]
  },
  {
   "cell_type": "code",
   "execution_count": 41,
   "metadata": {},
   "outputs": [],
   "source": [
    "# for submission in subreddit_itap.top(limit=200):\n",
    "#     print(submission.preview['images'][0]['source']['url'])    # To confirm this index location is present for all submissions"
   ]
  },
  {
   "cell_type": "code",
   "execution_count": 42,
   "metadata": {},
   "outputs": [],
   "source": [
    "# submission = subreddit_news.top(limit=1).next()\n",
    "# display(vars(submission))     # To check if there is an image associated with news submissions"
   ]
  },
  {
   "cell_type": "code",
   "execution_count": 43,
   "metadata": {},
   "outputs": [],
   "source": [
    "test_url = submission.preview['images'][0]['source']['url']"
   ]
  },
  {
   "cell_type": "code",
   "execution_count": 50,
   "metadata": {},
   "outputs": [],
   "source": [
    "I = Image.open(urllib.request.urlopen(test_url)).resize((150,150))"
   ]
  },
  {
   "cell_type": "code",
   "execution_count": 58,
   "metadata": {},
   "outputs": [
    {
     "data": {
      "text/plain": [
       "(150, 150, 3)"
      ]
     },
     "execution_count": 58,
     "metadata": {},
     "output_type": "execute_result"
    }
   ],
   "source": [
    "small = np.asarray(I)\n",
    "small.shape"
   ]
  },
  {
   "cell_type": "code",
   "execution_count": 61,
   "metadata": {},
   "outputs": [
    {
     "data": {
      "image/png": "[encoded data removed]",
      "text/plain": [
       "<PIL.Image.Image image mode=RGB size=150x150 at 0x10E72B4A8>"
      ]
     },
     "execution_count": 61,
     "metadata": {},
     "output_type": "execute_result"
    }
   ],
   "source": [
    "Image.fromarray(small)"
   ]
  },
  {
   "cell_type": "code",
   "execution_count": null,
   "metadata": {},
   "outputs": [],
   "source": []
  }
 ],
 "metadata": {
  "kernelspec": {
   "display_name": "learn-env",
   "language": "python",
   "name": "learn-env"
  },
  "language_info": {
   "codemirror_mode": {
    "name": "ipython",
    "version": 3
   },
   "file_extension": ".py",
   "mimetype": "text/x-python",
   "name": "python",
   "nbconvert_exporter": "python",
   "pygments_lexer": "ipython3",
   "version": "3.6.6"
  }
 },
 "nbformat": 4,
 "nbformat_minor": 2
}
