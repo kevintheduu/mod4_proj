{
 "cells": [
  {
   "cell_type": "code",
   "execution_count": 61,
   "metadata": {},
   "outputs": [],
   "source": [
    "import time\n",
    "import datetime as dt\n",
    "import pandas as pd\n",
    "import json\n",
    "from selenium.webdriver import Chrome\n",
    "from selenium.webdriver.common.action_chains import ActionChains"
   ]
  },
  {
   "cell_type": "code",
   "execution_count": 105,
   "metadata": {},
   "outputs": [],
   "source": [
    "browser = Chrome()\n",
    "url = 'https://web.archive.org/web/20190617005258/https://old.reddit.com/r/worldnews/'\n",
    "browser.get(url)"
   ]
  },
  {
   "cell_type": "code",
   "execution_count": 9,
   "metadata": {},
   "outputs": [],
   "source": [
    "headline_elements = browser.find_elements_by_css_selector('p.title > a')[1:]\n",
    "vote_elements = browser.find_elements_by_css_selector('div.midcol.unvoted > div.score.unvoted')[1:]\n",
    "comment_elements = browser.find_elements_by_css_selector('li.first > a')\n",
    "time_elements = browser.find_elements_by_css_selector('time')[1:]"
   ]
  },
  {
   "cell_type": "code",
   "execution_count": 45,
   "metadata": {},
   "outputs": [],
   "source": [
    "headlines = [headline.text for headline in headline_elements]\n",
    "votes = [vote.get_attribute('title') for vote in vote_elements]\n",
    "comments = [comment.text for comment in comment_elements]\n",
    "ages = [time.text for time in time_elements]\n",
    "datetimes = [time.get_attribute('datetime') for time in time_elements]     \n",
    "datetimes = [text.replace('T', ' ') for text in datetimes]     # Removing 'T' in date time\n",
    "datetimes = [text[:-6] for text in datetimes]       # Removing trailing milliseconds\n",
    "datetimes = [datetime.datetime.strptime(text, '%Y-%m-%d %H:%M:%S') \n",
    "                                 for text in datetimes]   #  coerce to dt object"
   ]
  },
  {
   "cell_type": "code",
   "execution_count": 46,
   "metadata": {},
   "outputs": [
    {
     "data": {
      "text/html": [
       "<div>\n",
       "<style scoped>\n",
       "    .dataframe tbody tr th:only-of-type {\n",
       "        vertical-align: middle;\n",
       "    }\n",
       "\n",
       "    .dataframe tbody tr th {\n",
       "        vertical-align: top;\n",
       "    }\n",
       "\n",
       "    .dataframe thead th {\n",
       "        text-align: right;\n",
       "    }\n",
       "</style>\n",
       "<table border=\"1\" class=\"dataframe\">\n",
       "  <thead>\n",
       "    <tr style=\"text-align: right;\">\n",
       "      <th></th>\n",
       "      <th>0</th>\n",
       "      <th>1</th>\n",
       "      <th>2</th>\n",
       "      <th>3</th>\n",
       "      <th>4</th>\n",
       "    </tr>\n",
       "  </thead>\n",
       "  <tbody>\n",
       "    <tr>\n",
       "      <th>0</th>\n",
       "      <td>Porn Sites in Hong Kong Shut Down to Encourage...</td>\n",
       "      <td>48936</td>\n",
       "      <td>1359 comments</td>\n",
       "      <td>4 hours ago</td>\n",
       "      <td>2019-06-16 20:01:38</td>\n",
       "    </tr>\n",
       "    <tr>\n",
       "      <th>1</th>\n",
       "      <td>Massive power cut hits all of Argentina and Ur...</td>\n",
       "      <td>25546</td>\n",
       "      <td>1183 comments</td>\n",
       "      <td>13 hours ago</td>\n",
       "      <td>2019-06-16 11:19:45</td>\n",
       "    </tr>\n",
       "    <tr>\n",
       "      <th>2</th>\n",
       "      <td>The UK has now committed to the most aggressiv...</td>\n",
       "      <td>8674</td>\n",
       "      <td>514 comments</td>\n",
       "      <td>12 hours ago</td>\n",
       "      <td>2019-06-16 12:44:06</td>\n",
       "    </tr>\n",
       "    <tr>\n",
       "      <th>3</th>\n",
       "      <td>Japan demands more proof from U.S. that Iran a...</td>\n",
       "      <td>19052</td>\n",
       "      <td>1876 comments</td>\n",
       "      <td>15 hours ago</td>\n",
       "      <td>2019-06-16 09:02:32</td>\n",
       "    </tr>\n",
       "    <tr>\n",
       "      <th>4</th>\n",
       "      <td>Hongkongers march in their thousands against e...</td>\n",
       "      <td>40652</td>\n",
       "      <td>1668 comments</td>\n",
       "      <td>16 hours ago</td>\n",
       "      <td>2019-06-16 08:01:32</td>\n",
       "    </tr>\n",
       "    <tr>\n",
       "      <th>5</th>\n",
       "      <td>Hong Kong protesters coordinate tech-savvy eff...</td>\n",
       "      <td>2685</td>\n",
       "      <td>163 comments</td>\n",
       "      <td>11 hours ago</td>\n",
       "      <td>2019-06-16 13:42:30</td>\n",
       "    </tr>\n",
       "    <tr>\n",
       "      <th>6</th>\n",
       "      <td>Boris Johnson failed to protect biodiversity h...</td>\n",
       "      <td>3797</td>\n",
       "      <td>181 comments</td>\n",
       "      <td>13 hours ago</td>\n",
       "      <td>2019-06-16 11:39:06</td>\n",
       "    </tr>\n",
       "    <tr>\n",
       "      <th>7</th>\n",
       "      <td>Many fliers say they will avoid Boeing’s 737 M...</td>\n",
       "      <td>1990</td>\n",
       "      <td>583 comments</td>\n",
       "      <td>10 hours ago</td>\n",
       "      <td>2019-06-16 14:10:14</td>\n",
       "    </tr>\n",
       "    <tr>\n",
       "      <th>8</th>\n",
       "      <td>Nearly 43% of the new members of the India's l...</td>\n",
       "      <td>1588</td>\n",
       "      <td>70 comments</td>\n",
       "      <td>10 hours ago</td>\n",
       "      <td>2019-06-16 13:55:22</td>\n",
       "    </tr>\n",
       "    <tr>\n",
       "      <th>9</th>\n",
       "      <td>Boeing CEO concedes 'mistake' with planes in 2...</td>\n",
       "      <td>958</td>\n",
       "      <td>140 comments</td>\n",
       "      <td>8 hours ago</td>\n",
       "      <td>2019-06-16 16:36:28</td>\n",
       "    </tr>\n",
       "    <tr>\n",
       "      <th>10</th>\n",
       "      <td>No dumping ground’: Indonesia sends back loads...</td>\n",
       "      <td>638</td>\n",
       "      <td>52 comments</td>\n",
       "      <td>7 hours ago</td>\n",
       "      <td>2019-06-16 17:03:54</td>\n",
       "    </tr>\n",
       "    <tr>\n",
       "      <th>11</th>\n",
       "      <td>Donald Trump refuses to criticize Russia durin...</td>\n",
       "      <td>1911</td>\n",
       "      <td>262 comments</td>\n",
       "      <td>14 hours ago</td>\n",
       "      <td>2019-06-16 10:33:38</td>\n",
       "    </tr>\n",
       "    <tr>\n",
       "      <th>12</th>\n",
       "      <td>Germany joins chorus casting doubt on Trump ad...</td>\n",
       "      <td>40107</td>\n",
       "      <td>3790 comments</td>\n",
       "      <td>22 hours ago</td>\n",
       "      <td>2019-06-16 02:36:05</td>\n",
       "    </tr>\n",
       "    <tr>\n",
       "      <th>13</th>\n",
       "      <td>In Hong Kong protests against extradition bill...</td>\n",
       "      <td>2615</td>\n",
       "      <td>130 comments</td>\n",
       "      <td>17 hours ago</td>\n",
       "      <td>2019-06-16 07:40:19</td>\n",
       "    </tr>\n",
       "    <tr>\n",
       "      <th>14</th>\n",
       "      <td>EU says Russia conducted 'sustained' election ...</td>\n",
       "      <td>316</td>\n",
       "      <td>29 comments</td>\n",
       "      <td>5 hours ago</td>\n",
       "      <td>2019-06-16 19:04:22</td>\n",
       "    </tr>\n",
       "    <tr>\n",
       "      <th>15</th>\n",
       "      <td>Hong Kong: Dead Anti-Extradition Protester Hai...</td>\n",
       "      <td>824</td>\n",
       "      <td>47 comments</td>\n",
       "      <td>12 hours ago</td>\n",
       "      <td>2019-06-16 12:40:30</td>\n",
       "    </tr>\n",
       "    <tr>\n",
       "      <th>16</th>\n",
       "      <td>100 Ugandan Babies Dead - NGO Wants U.S. Missi...</td>\n",
       "      <td>120</td>\n",
       "      <td>25 comments</td>\n",
       "      <td>2 hours ago</td>\n",
       "      <td>2019-06-16 22:18:15</td>\n",
       "    </tr>\n",
       "    <tr>\n",
       "      <th>17</th>\n",
       "      <td>Kremlin compares US attacks on Iran to fake ‘w...</td>\n",
       "      <td>158</td>\n",
       "      <td>68 comments</td>\n",
       "      <td>4 hours ago</td>\n",
       "      <td>2019-06-16 20:02:14</td>\n",
       "    </tr>\n",
       "    <tr>\n",
       "      <th>18</th>\n",
       "      <td>Benjamin Netanyahu's wife Sara admits misusing...</td>\n",
       "      <td>883</td>\n",
       "      <td>67 comments</td>\n",
       "      <td>14 hours ago</td>\n",
       "      <td>2019-06-16 10:37:35</td>\n",
       "    </tr>\n",
       "    <tr>\n",
       "      <th>19</th>\n",
       "      <td>Germany exports weapons to Saudi-led alliance ...</td>\n",
       "      <td>556</td>\n",
       "      <td>74 comments</td>\n",
       "      <td>11 hours ago</td>\n",
       "      <td>2019-06-16 13:00:14</td>\n",
       "    </tr>\n",
       "    <tr>\n",
       "      <th>20</th>\n",
       "      <td></td>\n",
       "      <td>349</td>\n",
       "      <td>8 comments</td>\n",
       "      <td>9 hours ago</td>\n",
       "      <td>2019-06-16 15:25:43</td>\n",
       "    </tr>\n",
       "    <tr>\n",
       "      <th>21</th>\n",
       "      <td>Germany: U.S video not enough to attribute bla...</td>\n",
       "      <td>321</td>\n",
       "      <td>102 comments</td>\n",
       "      <td>9 hours ago</td>\n",
       "      <td>2019-06-16 15:33:55</td>\n",
       "    </tr>\n",
       "    <tr>\n",
       "      <th>22</th>\n",
       "      <td>Boeing CEO concedes 'mistake' with planes in 2...</td>\n",
       "      <td>166</td>\n",
       "      <td>36 comments</td>\n",
       "      <td>6 hours ago</td>\n",
       "      <td>2019-06-16 18:30:26</td>\n",
       "    </tr>\n",
       "    <tr>\n",
       "      <th>23</th>\n",
       "      <td>'Doomsday predictions can no longer be met wit...</td>\n",
       "      <td>478</td>\n",
       "      <td>53 comments</td>\n",
       "      <td>12 hours ago</td>\n",
       "      <td>2019-06-16 12:21:22</td>\n",
       "    </tr>\n",
       "    <tr>\n",
       "      <th>24</th>\n",
       "      <td>Saudi Arabia May Execute Teenager for His Prot...</td>\n",
       "      <td>98</td>\n",
       "      <td>46 comments</td>\n",
       "      <td>4 hours ago</td>\n",
       "      <td>2019-06-16 19:53:17</td>\n",
       "    </tr>\n",
       "  </tbody>\n",
       "</table>\n",
       "</div>"
      ],
      "text/plain": [
       "                                                    0      1              2  \\\n",
       "0   Porn Sites in Hong Kong Shut Down to Encourage...  48936  1359 comments   \n",
       "1   Massive power cut hits all of Argentina and Ur...  25546  1183 comments   \n",
       "2   The UK has now committed to the most aggressiv...   8674   514 comments   \n",
       "3   Japan demands more proof from U.S. that Iran a...  19052  1876 comments   \n",
       "4   Hongkongers march in their thousands against e...  40652  1668 comments   \n",
       "5   Hong Kong protesters coordinate tech-savvy eff...   2685   163 comments   \n",
       "6   Boris Johnson failed to protect biodiversity h...   3797   181 comments   \n",
       "7   Many fliers say they will avoid Boeing’s 737 M...   1990   583 comments   \n",
       "8   Nearly 43% of the new members of the India's l...   1588    70 comments   \n",
       "9   Boeing CEO concedes 'mistake' with planes in 2...    958   140 comments   \n",
       "10  No dumping ground’: Indonesia sends back loads...    638    52 comments   \n",
       "11  Donald Trump refuses to criticize Russia durin...   1911   262 comments   \n",
       "12  Germany joins chorus casting doubt on Trump ad...  40107  3790 comments   \n",
       "13  In Hong Kong protests against extradition bill...   2615   130 comments   \n",
       "14  EU says Russia conducted 'sustained' election ...    316    29 comments   \n",
       "15  Hong Kong: Dead Anti-Extradition Protester Hai...    824    47 comments   \n",
       "16  100 Ugandan Babies Dead - NGO Wants U.S. Missi...    120    25 comments   \n",
       "17  Kremlin compares US attacks on Iran to fake ‘w...    158    68 comments   \n",
       "18  Benjamin Netanyahu's wife Sara admits misusing...    883    67 comments   \n",
       "19  Germany exports weapons to Saudi-led alliance ...    556    74 comments   \n",
       "20                                                       349     8 comments   \n",
       "21  Germany: U.S video not enough to attribute bla...    321   102 comments   \n",
       "22  Boeing CEO concedes 'mistake' with planes in 2...    166    36 comments   \n",
       "23  'Doomsday predictions can no longer be met wit...    478    53 comments   \n",
       "24  Saudi Arabia May Execute Teenager for His Prot...     98    46 comments   \n",
       "\n",
       "               3                    4  \n",
       "0    4 hours ago  2019-06-16 20:01:38  \n",
       "1   13 hours ago  2019-06-16 11:19:45  \n",
       "2   12 hours ago  2019-06-16 12:44:06  \n",
       "3   15 hours ago  2019-06-16 09:02:32  \n",
       "4   16 hours ago  2019-06-16 08:01:32  \n",
       "5   11 hours ago  2019-06-16 13:42:30  \n",
       "6   13 hours ago  2019-06-16 11:39:06  \n",
       "7   10 hours ago  2019-06-16 14:10:14  \n",
       "8   10 hours ago  2019-06-16 13:55:22  \n",
       "9    8 hours ago  2019-06-16 16:36:28  \n",
       "10   7 hours ago  2019-06-16 17:03:54  \n",
       "11  14 hours ago  2019-06-16 10:33:38  \n",
       "12  22 hours ago  2019-06-16 02:36:05  \n",
       "13  17 hours ago  2019-06-16 07:40:19  \n",
       "14   5 hours ago  2019-06-16 19:04:22  \n",
       "15  12 hours ago  2019-06-16 12:40:30  \n",
       "16   2 hours ago  2019-06-16 22:18:15  \n",
       "17   4 hours ago  2019-06-16 20:02:14  \n",
       "18  14 hours ago  2019-06-16 10:37:35  \n",
       "19  11 hours ago  2019-06-16 13:00:14  \n",
       "20   9 hours ago  2019-06-16 15:25:43  \n",
       "21   9 hours ago  2019-06-16 15:33:55  \n",
       "22   6 hours ago  2019-06-16 18:30:26  \n",
       "23  12 hours ago  2019-06-16 12:21:22  \n",
       "24   4 hours ago  2019-06-16 19:53:17  "
      ]
     },
     "execution_count": 46,
     "metadata": {},
     "output_type": "execute_result"
    }
   ],
   "source": [
    "pd.DataFrame([headlines, votes, comments, ages, datetimes]).T"
   ]
  },
  {
   "cell_type": "markdown",
   "metadata": {},
   "source": [
    "### This is promising, but lets go ahead and transform date time to 'day of week' and 'hour of day'"
   ]
  },
  {
   "cell_type": "code",
   "execution_count": 47,
   "metadata": {},
   "outputs": [
    {
     "data": {
      "text/plain": [
       "datetime.datetime"
      ]
     },
     "execution_count": 47,
     "metadata": {},
     "output_type": "execute_result"
    }
   ],
   "source": [
    "type(datetimes[0])"
   ]
  },
  {
   "cell_type": "code",
   "execution_count": 52,
   "metadata": {},
   "outputs": [],
   "source": [
    "test_dummy = datetimes[0]"
   ]
  },
  {
   "cell_type": "code",
   "execution_count": 58,
   "metadata": {},
   "outputs": [
    {
     "name": "stdout",
     "output_type": "stream",
     "text": [
      "2019-06-16 20:01:38\n"
     ]
    },
    {
     "data": {
      "text/plain": [
       "6"
      ]
     },
     "execution_count": 58,
     "metadata": {},
     "output_type": "execute_result"
    }
   ],
   "source": [
    "print(datetimes[0])\n",
    "datetimes[0].weekday()    # June 16th is sunday, wkday nums appear to be 0-6, mon-sun"
   ]
  },
  {
   "cell_type": "code",
   "execution_count": 59,
   "metadata": {},
   "outputs": [],
   "source": [
    "days_of_week = [datetime.weekday() for datetime in datetimes]\n",
    "hours_posted = [datetime.hour for datetime in datetimes]"
   ]
  },
  {
   "cell_type": "code",
   "execution_count": 60,
   "metadata": {},
   "outputs": [
    {
     "data": {
      "text/html": [
       "<div>\n",
       "<style scoped>\n",
       "    .dataframe tbody tr th:only-of-type {\n",
       "        vertical-align: middle;\n",
       "    }\n",
       "\n",
       "    .dataframe tbody tr th {\n",
       "        vertical-align: top;\n",
       "    }\n",
       "\n",
       "    .dataframe thead th {\n",
       "        text-align: right;\n",
       "    }\n",
       "</style>\n",
       "<table border=\"1\" class=\"dataframe\">\n",
       "  <thead>\n",
       "    <tr style=\"text-align: right;\">\n",
       "      <th></th>\n",
       "      <th>0</th>\n",
       "      <th>1</th>\n",
       "    </tr>\n",
       "  </thead>\n",
       "  <tbody>\n",
       "    <tr>\n",
       "      <th>0</th>\n",
       "      <td>6</td>\n",
       "      <td>20</td>\n",
       "    </tr>\n",
       "    <tr>\n",
       "      <th>1</th>\n",
       "      <td>6</td>\n",
       "      <td>11</td>\n",
       "    </tr>\n",
       "    <tr>\n",
       "      <th>2</th>\n",
       "      <td>6</td>\n",
       "      <td>12</td>\n",
       "    </tr>\n",
       "    <tr>\n",
       "      <th>3</th>\n",
       "      <td>6</td>\n",
       "      <td>9</td>\n",
       "    </tr>\n",
       "    <tr>\n",
       "      <th>4</th>\n",
       "      <td>6</td>\n",
       "      <td>8</td>\n",
       "    </tr>\n",
       "    <tr>\n",
       "      <th>5</th>\n",
       "      <td>6</td>\n",
       "      <td>13</td>\n",
       "    </tr>\n",
       "    <tr>\n",
       "      <th>6</th>\n",
       "      <td>6</td>\n",
       "      <td>11</td>\n",
       "    </tr>\n",
       "    <tr>\n",
       "      <th>7</th>\n",
       "      <td>6</td>\n",
       "      <td>14</td>\n",
       "    </tr>\n",
       "    <tr>\n",
       "      <th>8</th>\n",
       "      <td>6</td>\n",
       "      <td>13</td>\n",
       "    </tr>\n",
       "    <tr>\n",
       "      <th>9</th>\n",
       "      <td>6</td>\n",
       "      <td>16</td>\n",
       "    </tr>\n",
       "    <tr>\n",
       "      <th>10</th>\n",
       "      <td>6</td>\n",
       "      <td>17</td>\n",
       "    </tr>\n",
       "    <tr>\n",
       "      <th>11</th>\n",
       "      <td>6</td>\n",
       "      <td>10</td>\n",
       "    </tr>\n",
       "    <tr>\n",
       "      <th>12</th>\n",
       "      <td>6</td>\n",
       "      <td>2</td>\n",
       "    </tr>\n",
       "    <tr>\n",
       "      <th>13</th>\n",
       "      <td>6</td>\n",
       "      <td>7</td>\n",
       "    </tr>\n",
       "    <tr>\n",
       "      <th>14</th>\n",
       "      <td>6</td>\n",
       "      <td>19</td>\n",
       "    </tr>\n",
       "    <tr>\n",
       "      <th>15</th>\n",
       "      <td>6</td>\n",
       "      <td>12</td>\n",
       "    </tr>\n",
       "    <tr>\n",
       "      <th>16</th>\n",
       "      <td>6</td>\n",
       "      <td>22</td>\n",
       "    </tr>\n",
       "    <tr>\n",
       "      <th>17</th>\n",
       "      <td>6</td>\n",
       "      <td>20</td>\n",
       "    </tr>\n",
       "    <tr>\n",
       "      <th>18</th>\n",
       "      <td>6</td>\n",
       "      <td>10</td>\n",
       "    </tr>\n",
       "    <tr>\n",
       "      <th>19</th>\n",
       "      <td>6</td>\n",
       "      <td>13</td>\n",
       "    </tr>\n",
       "    <tr>\n",
       "      <th>20</th>\n",
       "      <td>6</td>\n",
       "      <td>15</td>\n",
       "    </tr>\n",
       "    <tr>\n",
       "      <th>21</th>\n",
       "      <td>6</td>\n",
       "      <td>15</td>\n",
       "    </tr>\n",
       "    <tr>\n",
       "      <th>22</th>\n",
       "      <td>6</td>\n",
       "      <td>18</td>\n",
       "    </tr>\n",
       "    <tr>\n",
       "      <th>23</th>\n",
       "      <td>6</td>\n",
       "      <td>12</td>\n",
       "    </tr>\n",
       "    <tr>\n",
       "      <th>24</th>\n",
       "      <td>6</td>\n",
       "      <td>19</td>\n",
       "    </tr>\n",
       "  </tbody>\n",
       "</table>\n",
       "</div>"
      ],
      "text/plain": [
       "    0   1\n",
       "0   6  20\n",
       "1   6  11\n",
       "2   6  12\n",
       "3   6   9\n",
       "4   6   8\n",
       "5   6  13\n",
       "6   6  11\n",
       "7   6  14\n",
       "8   6  13\n",
       "9   6  16\n",
       "10  6  17\n",
       "11  6  10\n",
       "12  6   2\n",
       "13  6   7\n",
       "14  6  19\n",
       "15  6  12\n",
       "16  6  22\n",
       "17  6  20\n",
       "18  6  10\n",
       "19  6  13\n",
       "20  6  15\n",
       "21  6  15\n",
       "22  6  18\n",
       "23  6  12\n",
       "24  6  19"
      ]
     },
     "execution_count": 60,
     "metadata": {},
     "output_type": "execute_result"
    }
   ],
   "source": [
    "pd.DataFrame([days_of_week, hours_posted]).T"
   ]
  },
  {
   "cell_type": "markdown",
   "metadata": {},
   "source": [
    "# SUCCESS - Successfully extracted weekday and hour of post"
   ]
  },
  {
   "cell_type": "code",
   "execution_count": 83,
   "metadata": {},
   "outputs": [],
   "source": [
    "temp_json_dummy_list = []\n",
    "for headline, vote, comment, age, weekday, hour in zip(\n",
    "                                            headlines, votes, comments,\n",
    "                                            ages, days_of_week, hours_posted):\n",
    "    temp_json_dummy_list.append({'text':headline,\n",
    "           'score': vote,\n",
    "           'comment_count': comment,\n",
    "           'age': age,\n",
    "           'weekday': weekday,\n",
    "           'hour_posted': hour})"
   ]
  },
  {
   "cell_type": "code",
   "execution_count": 84,
   "metadata": {},
   "outputs": [
    {
     "data": {
      "text/plain": [
       "25"
      ]
     },
     "execution_count": 84,
     "metadata": {},
     "output_type": "execute_result"
    }
   ],
   "source": [
    "len(temp_json_dummy_list)"
   ]
  },
  {
   "cell_type": "code",
   "execution_count": 82,
   "metadata": {},
   "outputs": [
    {
     "name": "stdout",
     "output_type": "stream",
     "text": [
      "{'text': 'Porn Sites in Hong Kong Shut Down to Encourage People to Protest', 'score': '48936', 'comment_count': '1359 comments', 'age': '4 hours ago', 'weekday': 6, 'hour_posted': 20} \n",
      "\n",
      "{'text': 'Massive power cut hits all of Argentina and Uruguay - 50 million people without electricity', 'score': '25546', 'comment_count': '1183 comments', 'age': '13 hours ago', 'weekday': 6, 'hour_posted': 11} \n",
      "\n",
      "{'text': 'The UK has now committed to the most aggressive climate target in the world: The country also went two whole weeks without burning coal for electricity.', 'score': '8674', 'comment_count': '514 comments', 'age': '12 hours ago', 'weekday': 6, 'hour_posted': 12} \n",
      "\n",
      "{'text': 'Japan demands more proof from U.S. that Iran attacked tankers', 'score': '19052', 'comment_count': '1876 comments', 'age': '15 hours ago', 'weekday': 6, 'hour_posted': 9} \n",
      "\n",
      "{'text': 'Hongkongers march in their thousands against extradition bill again, calling for leader to resign', 'score': '40652', 'comment_count': '1668 comments', 'age': '16 hours ago', 'weekday': 6, 'hour_posted': 8} \n",
      "\n"
     ]
    }
   ],
   "source": [
    "for line in temp_json_dummy_list[:5]:\n",
    "    print(line, '\\n')"
   ]
  },
  {
   "cell_type": "code",
   "execution_count": 100,
   "metadata": {},
   "outputs": [],
   "source": [
    "with open('test.json', 'w') as f:\n",
    "    json.dump(temp_json_dummy_list[0], fp=f)"
   ]
  },
  {
   "cell_type": "code",
   "execution_count": 101,
   "metadata": {},
   "outputs": [
    {
     "name": "stdout",
     "output_type": "stream",
     "text": [
      "{\"text\": \"Porn Sites in Hong Kong Shut Down to Encourage People to Protest\", \"score\": \"48936\", \"comment_count\": \"1359 comments\", \"age\": \"4 hours ago\", \"weekday\": 6, \"hour_posted\": 20}"
     ]
    }
   ],
   "source": [
    "!head test.json"
   ]
  },
  {
   "cell_type": "code",
   "execution_count": 102,
   "metadata": {},
   "outputs": [],
   "source": [
    "with open('test.json', 'a') as f:\n",
    "    for line in temp_json_dummy_list:\n",
    "        json.dump(line, f)"
   ]
  },
  {
   "cell_type": "code",
   "execution_count": 104,
   "metadata": {},
   "outputs": [
    {
     "name": "stdout",
     "output_type": "stream",
     "text": [
      "{\"text\": \"Porn Sites in Hong Kong Shut Down to Encourage People to Protest\", \"score\": \"48936\", \"comment_count\": \"1359 comments\", \"age\": \"4 hours ago\", \"weekday\": 6, \"hour_posted\": 20}{\"text\": \"Porn Sites in Hong Kong Shut Down to Encourage People to Protest\", \"score\": \"48936\", \"comment_count\": \"1359 comments\", \"age\": \"4 hours ago\", \"weekday\": 6, \"hour_posted\": 20}{\"text\": \"Massive power cut hits all of Argentina and Uruguay - 50 million people without electricity\", \"score\": \"25546\", \"comment_count\": \"1183 comments\", \"age\": \"13 hours ago\", \"weekday\": 6, \"hour_posted\": 11}{\"text\": \"The UK has now committed to the most aggressive climate target in the world: The country also went two whole weeks without burning coal for electricity.\", \"score\": \"8674\", \"comment_count\": \"514 comments\", \"age\": \"12 hours ago\", \"weekday\": 6, \"hour_posted\": 12}{\"text\": \"Japan demands more proof from U.S. that Iran attacked tankers\", \"score\": \"19052\", \"comment_count\": \"1876 comments\", \"age\": \"15 hours ago\", \"weekday\": 6, \"hour_posted\": 9}{\"text\": \"Hongkongers march in their thousands against extradition bill again, calling for leader to resign\", \"score\": \"40652\", \"comment_count\": \"1668 comments\", \"age\": \"16 hours ago\", \"weekday\": 6, \"hour_posted\": 8}{\"text\": \"Hong Kong protesters coordinate tech-savvy effort to beat Chinese state surveillance\", \"score\": \"2685\", \"comment_count\": \"163 comments\", \"age\": \"11 hours ago\", \"weekday\": 6, \"hour_posted\": 13}{\"text\": \"Boris Johnson failed to protect biodiversity hotspot, says UN expert - \\u201cUnfortunately, I wasn\\u2019t able to get Boris to protect Georgia and the Sandwich Islands. Just one signature and he could have created a protected area over a million square kilometres, but he didn\\u2019t do it,\\u201d he said.\", \"score\": \"3797\", \"comment_count\": \"181 comments\", \"age\": \"13 hours ago\", \"weekday\": 6, \"hour_posted\": 11}{\"text\": \"Many fliers say they will avoid Boeing\\u2019s 737 Max even if it\\u2019s cleared to fly\", \"score\": \"1990\", \"comment_count\": \"583 comments\", \"age\": \"10 hours ago\", \"weekday\": 6, \"hour_posted\": 14}{\"text\": \"Nearly 43% of the new members of the India's lower house of Parliament won despite facing criminal charges. More than a quarter of those relate to rape, murder or attempted murder, according to a report by the civic group Association of Democratic Reforms\", \"score\": \"1588\", \"comment_count\": \"70 comments\", \"age\": \"10 hours ago\", \"weekday\": 6, \"hour_posted\": 13}{\"text\": \"Boeing CEO concedes 'mistake' with planes in 2 fatal crashes\", \"score\": \"958\", \"comment_count\": \"140 comments\", \"age\": \"8 hours ago\", \"weekday\": 6, \"hour_posted\": 16}{\"text\": \"No dumping ground\\u2019: Indonesia sends back loads of plastic mislabelled as \\u2018paper\\u2019 to us\", \"score\": \"638\", \"comment_count\": \"52 comments\", \"age\": \"7 hours ago\", \"weekday\": 6, \"hour_posted\": 17}{\"text\": \"Donald Trump refuses to criticize Russia during joint press conference with Poland's leader\", \"score\": \"1911\", \"comment_count\": \"262 comments\", \"age\": \"14 hours ago\", \"weekday\": 6, \"hour_posted\": 10}{\"text\": \"Germany joins chorus casting doubt on Trump administration claim that Iran was behind attack on oil tankers\", \"score\": \"40107\", \"comment_count\": \"3790 comments\", \"age\": \"22 hours ago\", \"weekday\": 6, \"hour_posted\": 2}{\"text\": \"In Hong Kong protests against extradition bill to China, the admin of a Telegram group with 30,000 members was arrested. Telegram is used by many protesters to communicate during protests.\", \"score\": \"2615\", \"comment_count\": \"130 comments\", \"age\": \"17 hours ago\", \"weekday\": 6, \"hour_posted\": 7}{\"text\": \"EU says Russia conducted 'sustained' election interference campaign\", \"score\": \"316\", \"comment_count\": \"29 comments\", \"age\": \"5 hours ago\", \"weekday\": 6, \"hour_posted\": 19}{\"text\": \"Hong Kong: Dead Anti-Extradition Protester Hailed as Martyr\", \"score\": \"824\", \"comment_count\": \"47 comments\", \"age\": \"12 hours ago\", \"weekday\": 6, \"hour_posted\": 12}{\"text\": \"100 Ugandan Babies Dead - NGO Wants U.S. Missionary Prosecuted For Practicing Medicine Without Any Qualifications\", \"score\": \"120\", \"comment_count\": \"25 comments\", \"age\": \"2 hours ago\", \"weekday\": 6, \"hour_posted\": 22}{\"text\": \"Kremlin compares US attacks on Iran to fake \\u2018white powder evidence\\u2019 against Iraq in 2003\", \"score\": \"158\", \"comment_count\": \"68 comments\", \"age\": \"4 hours ago\", \"weekday\": 6, \"hour_posted\": 20}{\"text\": \"Benjamin Netanyahu's wife Sara admits misusing public funds - The wife of the Israeli Prime Minister Benjamin Netanyahu has admitted to misuse of state funds and will have to pay $15,000 (\\u00a311,910). She will have a criminal record, the Jerusalem Post reported.\", \"score\": \"883\", \"comment_count\": \"67 comments\", \"age\": \"14 hours ago\", \"weekday\": 6, \"hour_posted\": 10}{\"text\": \"Germany exports weapons to Saudi-led alliance in 2019 - The German government has given the green light for arms shipments worth over \\u20ac1 billion so far this year to the Saudi-led coalition fighting in Yemen. The approval comes despite export restrictions being in place.\", \"score\": \"556\", \"comment_count\": \"74 comments\", \"age\": \"11 hours ago\", \"weekday\": 6, \"hour_posted\": 13}{\"text\": \"\", \"score\": \"349\", \"comment_count\": \"8 comments\", \"age\": \"9 hours ago\", \"weekday\": 6, \"hour_posted\": 15}{\"text\": \"Germany: U.S video not enough to attribute blame over oil tanker attacks\", \"score\": \"321\", \"comment_count\": \"102 comments\", \"age\": \"9 hours ago\", \"weekday\": 6, \"hour_posted\": 15}{\"text\": \"Boeing CEO concedes 'mistake' with planes in 2 fatal crashes; The US Federal Aviation Administration has faulted Boeing for not telling regulators for more than year that a safety indicator in the Max cockpit didn't work\", \"score\": \"166\", \"comment_count\": \"36 comments\", \"age\": \"6 hours ago\", \"weekday\": 6, \"hour_posted\": 18}{\"text\": \"'Doomsday predictions can no longer be met with disdain': Pope Francis calls carbon pricing 'essential'\", \"score\": \"478\", \"comment_count\": \"53 comments\", \"age\": \"12 hours ago\", \"weekday\": 6, \"hour_posted\": 12}{\"text\": \"Saudi Arabia May Execute Teenager for His Protests \\u2014 Including When He Was 10\", \"score\": \"98\", \"comment_count\": \"46 comments\", \"age\": \"4 hours ago\", \"weekday\": 6, \"hour_posted\": 19}"
     ]
    }
   ],
   "source": [
    "!head test.json"
   ]
  },
  {
   "cell_type": "code",
   "execution_count": 141,
   "metadata": {},
   "outputs": [],
   "source": [
    "# pd.read_json(open('test.json', 'r', encoding='utf8'),\n",
    "#              lines=True)      # Chucks an error ValueError: Unexpected character found when decoding array value (2)"
   ]
  },
  {
   "cell_type": "markdown",
   "metadata": {},
   "source": [
    "# STALLED OUT LETS TRY CSV"
   ]
  },
  {
   "cell_type": "code",
   "execution_count": 146,
   "metadata": {},
   "outputs": [],
   "source": [
    "temp_csv = ['text, score, comment_count, age, day_of_week, hour_posted,\\n']\n",
    "for headline, vote, comment, age, weekday, hour in zip(\n",
    "                                            headlines, votes, comments,\n",
    "                                            ages, days_of_week, hours_posted):\n",
    "    temp_csv.append(f\"\"\"{headline}, {vote}, {comment}, {age}, {weekday}, {hour}\\n\"\"\")"
   ]
  },
  {
   "cell_type": "code",
   "execution_count": 149,
   "metadata": {},
   "outputs": [],
   "source": [
    "with open('test.csv', 'w') as f:\n",
    "    for line in temp_csv:\n",
    "        f.write(line)"
   ]
  },
  {
   "cell_type": "code",
   "execution_count": 151,
   "metadata": {},
   "outputs": [
    {
     "name": "stdout",
     "output_type": "stream",
     "text": [
      "\u001b[23B\u001b[m\u001b[37m\u001b[40m\u001b[1mtest| saul.pw/VisiData v1.5.2 | opening test as csv | Ctrl+H \u001b[m\u001b[37m\u001b[40m \u001b[m\u001b[37m\u001b[40m\u001b[1m         0   0%\u001b[m\u001b[32m\u001b[40m \u001b[m\u001b[37m\u001b[40m\u001b[1m \u001b[24;63H\u001b[m\u001b[m\u001b[37m\u001b[40m\u001b[H\u001b[C\u001b[m\u001b[37m\u001b[40m\u001b[1m\u001b[7m\u001b[4mtext\u001b[1;21H\u001b[m\u001b[34m\u001b[40m|\u001b[m\u001b[37m\u001b[40m\u001b[1m\u001b[4m score              \u001b[m\u001b[34m\u001b[40m|\u001b[m\u001b[37m\u001b[40m\u001b[1m\u001b[4m comment_count      \u001b[m\u001b[34m\u001b[40m|\u001b[m\u001b[37m\u001b[40m\u001b[1m\u001b[4m age           \u001b[m\u001b[34m\u001b[40m>\n",
      "\u001b[m\u001b[37m\u001b[40m\u001b[1m\u001b[7m Porn Sites in Hong…\u001b[m\u001b[m\u001b[37m\u001b[40m\u001b[7m| 48936              | 1359 comments      | 4 hours ago    \n",
      "\u001b[m\u001b[m\u001b[37m\u001b[40m\u001b[1m Massive power cut …\u001b[m\u001b[m\u001b[37m\u001b[40m| 25546\u001b[3;42H| 1183 comments\u001b[6C| 13 hours ago\n",
      "\u001b[m\u001b[37m\u001b[40m\u001b[1m The UK has now com…\u001b[m\u001b[m\u001b[37m\u001b[40m| 8674\u001b[4;42H| 514 comments\u001b[7C| 12 hours ago\n",
      "\u001b[m\u001b[37m\u001b[40m\u001b[1m Japan demands more…\u001b[m\u001b[m\u001b[37m\u001b[40m| 19052\u001b[5;42H| 1876 comments\u001b[6C| 15 hours ago\n",
      "\u001b[m\u001b[37m\u001b[40m\u001b[1m Hongkongers march …\u001b[m\u001b[m\u001b[37m\u001b[40m| calling for leader…| 40652\u001b[6;63H| 1668 comments\n",
      "\u001b[m\u001b[37m\u001b[40m\u001b[1m Hong Kong proteste…\u001b[m\u001b[m\u001b[37m\u001b[40m| 2685\u001b[7;42H| 163 comments\u001b[7C| 11 hours ago\n",
      "\u001b[m\u001b[37m\u001b[40m\u001b[1m Boris Johnson fail…\u001b[m\u001b[m\u001b[37m\u001b[40m| says UN expert - “…| I wasn’t able to g…| but he didn’t …\n",
      "\u001b[m\u001b[37m\u001b[40m\u001b[1m Many fliers say th…\u001b[m\u001b[m\u001b[37m\u001b[40m| 1990\u001b[9;42H| 583 comments\u001b[7C| 10 hours ago\n",
      "\u001b[m\u001b[37m\u001b[40m\u001b[1m Nearly 43% of the …\u001b[m\u001b[m\u001b[37m\u001b[40m| murder or attempte…| according to a rep…| 1588\n",
      "\u001b[m\u001b[37m\u001b[40m\u001b[1m Boeing CEO concede…\u001b[m\u001b[m\u001b[37m\u001b[40m| 958\u001b[11;42H| 140 comments\u001b[7C| 8 hours ago\n",
      "\u001b[m\u001b[37m\u001b[40m\u001b[1m No dumping ground’…\u001b[m\u001b[m\u001b[37m\u001b[40m| 638\u001b[12;42H| 52 comments\u001b[12;63H| 7 hours ago\n",
      "\u001b[m\u001b[37m\u001b[40m\u001b[1m Donald Trump refus…\u001b[m\u001b[m\u001b[37m\u001b[40m| 1911\u001b[13;42H| 262 comments\u001b[7C| 14 hours ago\n",
      "\u001b[m\u001b[37m\u001b[40m\u001b[1m Germany joins chor…\u001b[m\u001b[m\u001b[37m\u001b[40m| 40107\u001b[14;42H| 3790 comments\u001b[6C| 22 hours ago\n",
      "\u001b[m\u001b[37m\u001b[40m\u001b[1m In Hong Kong prote…\u001b[m\u001b[m\u001b[37m\u001b[40m| the admin of a Tel…| 000 members was ar…| 2615\n",
      "\u001b[m\u001b[37m\u001b[40m\u001b[1m EU says Russia con…\u001b[m\u001b[m\u001b[37m\u001b[40m| 316\u001b[16;42H| 29 comments\u001b[16;63H| 5 hours ago\n",
      "\u001b[m\u001b[37m\u001b[40m\u001b[1m Hong Kong: Dead An…\u001b[m\u001b[m\u001b[37m\u001b[40m| 824\u001b[17;42H| 47 comments\u001b[17;63H| 12 hours ago\n",
      "\u001b[m\u001b[37m\u001b[40m\u001b[1m 100 Ugandan Babies…\u001b[m\u001b[m\u001b[37m\u001b[40m| 120\u001b[18;42H| 25 comments\u001b[18;63H| 2 hours ago\n",
      "\u001b[m\u001b[37m\u001b[40m\u001b[1m Kremlin compares U…\u001b[m\u001b[m\u001b[37m\u001b[40m| 158\u001b[19;42H| 68 comments\u001b[19;63H| 4 hours ago\n",
      "\u001b[m\u001b[37m\u001b[40m\u001b[1m Benjamin Netanyahu…\u001b[m\u001b[m\u001b[37m\u001b[40m| 000 (£11\u001b[20;42H| 910). She will hav…| the Jerusalem …\n",
      "\u001b[m\u001b[37m\u001b[40m\u001b[1m Germany exports we…\u001b[m\u001b[m\u001b[37m\u001b[40m| 556\u001b[21;42H| 74 comments\u001b[21;63H| 11 hours ago\n",
      "\u001b[m\u001b[37m\u001b[40m\u001b[1m                    \u001b[m\u001b[m\u001b[37m\u001b[40m| 349\u001b[22;42H| 8 comments\u001b[22;63H| 9 hours ago\n",
      "\u001b[m\u001b[37m\u001b[40m\u001b[1m Germany: U.S video…\u001b[m\u001b[m\u001b[37m\u001b[40m| 321\u001b[23;42H| 102 comments\u001b[7C| 9 hours ago\n",
      "\u001b[5D\u001b[m\u001b[37m\u001b[40m\u001b[1m25 rows\u001b[24;63H\u001b[m\u001b[m\u001b[37m\u001b[40\u001b[m\u001b[37m\u001b[40m\u001b[1mo\u001b[m\u001b[37m\u001b[40m \u001b[7C\u001b[m\u001b[37m\u001b[40m\u001b[1m 25 rows…\u001b[24;64H\u001b[m\u001b[m\u001b[37m\u001b[40m\u001b[57D\u001b[33m\u001b[40m\u001b[1mno active threads on this sheet                       \u001b[m\u001b[37m\u001b[40m ^C\u001b[15C\u001b[33m\u001b[40m\u001b[1m \u001b[24;64H\u001b[m\u001b[m\u001b[37m\u001b[40m\u001b[24;10H\u001b[33m\u001b[40m\u001b[1mcommand \"dive-row\"          \u001b[24;63H\u001b[m\u001b[37m\u001b[40mJ\u001b[m\u001b[m\u001b[37m\u001b[40m"
     ]
    }
   ],
   "source": [
    "!vd test.csv"
   ]
  },
  {
   "cell_type": "markdown",
   "metadata": {},
   "source": [
    "### Appears to have got caught up on commas in the text, lets try tsv"
   ]
  },
  {
   "cell_type": "code",
   "execution_count": 147,
   "metadata": {},
   "outputs": [],
   "source": [
    "temp_tsv = ['text\\tscore\\tcomment_count\\tage\\tday_of_week\\thour_posted\\t\\n']\n",
    "for headline, vote, comment, age, weekday, hour in zip(\n",
    "                                            headlines, votes, comments,\n",
    "                                            ages, days_of_week, hours_posted):\n",
    "    temp_tsv.append(f\"\"\"{headline}\\t{vote}\\t{comment}\\t{age}\\t{weekday}\\t{hour}\\n\"\"\")"
   ]
  },
  {
   "cell_type": "code",
   "execution_count": 148,
   "metadata": {},
   "outputs": [
    {
     "name": "stdout",
     "output_type": "stream",
     "text": [
      "text\tscore\tcomment_count\tage\tday_of_week\thour_posted\t\n",
      "\n",
      "Porn Sites in Hong Kong Shut Down to Encourage People to Protest\t48936\t1359 comments\t4 hours ago\t6\t20\n",
      "\n",
      "Massive power cut hits all of Argentina and Uruguay - 50 million people without electricity\t25546\t1183 comments\t13 hours ago\t6\t11\n",
      "\n",
      "The UK has now committed to the most aggressive climate target in the world: The country also went two whole weeks without burning coal for electricity.\t8674\t514 comments\t12 hours ago\t6\t12\n",
      "\n",
      "Japan demands more proof from U.S. that Iran attacked tankers\t19052\t1876 comments\t15 hours ago\t6\t9\n",
      "\n",
      "Hongkongers march in their thousands against extradition bill again, calling for leader to resign\t40652\t1668 comments\t16 hours ago\t6\t8\n",
      "\n",
      "Hong Kong protesters coordinate tech-savvy effort to beat Chinese state surveillance\t2685\t163 comments\t11 hours ago\t6\t13\n",
      "\n",
      "Boris Johnson failed to protect biodiversity hotspot, says UN expert - “Unfortunately, I wasn’t able to get Boris to protect Georgia and the Sandwich Islands. Just one signature and he could have created a protected area over a million square kilometres, but he didn’t do it,” he said.\t3797\t181 comments\t13 hours ago\t6\t11\n",
      "\n",
      "Many fliers say they will avoid Boeing’s 737 Max even if it’s cleared to fly\t1990\t583 comments\t10 hours ago\t6\t14\n",
      "\n",
      "Nearly 43% of the new members of the India's lower house of Parliament won despite facing criminal charges. More than a quarter of those relate to rape, murder or attempted murder, according to a report by the civic group Association of Democratic Reforms\t1588\t70 comments\t10 hours ago\t6\t13\n",
      "\n",
      "Boeing CEO concedes 'mistake' with planes in 2 fatal crashes\t958\t140 comments\t8 hours ago\t6\t16\n",
      "\n",
      "No dumping ground’: Indonesia sends back loads of plastic mislabelled as ‘paper’ to us\t638\t52 comments\t7 hours ago\t6\t17\n",
      "\n",
      "Donald Trump refuses to criticize Russia during joint press conference with Poland's leader\t1911\t262 comments\t14 hours ago\t6\t10\n",
      "\n",
      "Germany joins chorus casting doubt on Trump administration claim that Iran was behind attack on oil tankers\t40107\t3790 comments\t22 hours ago\t6\t2\n",
      "\n",
      "In Hong Kong protests against extradition bill to China, the admin of a Telegram group with 30,000 members was arrested. Telegram is used by many protesters to communicate during protests.\t2615\t130 comments\t17 hours ago\t6\t7\n",
      "\n",
      "EU says Russia conducted 'sustained' election interference campaign\t316\t29 comments\t5 hours ago\t6\t19\n",
      "\n",
      "Hong Kong: Dead Anti-Extradition Protester Hailed as Martyr\t824\t47 comments\t12 hours ago\t6\t12\n",
      "\n",
      "100 Ugandan Babies Dead - NGO Wants U.S. Missionary Prosecuted For Practicing Medicine Without Any Qualifications\t120\t25 comments\t2 hours ago\t6\t22\n",
      "\n",
      "Kremlin compares US attacks on Iran to fake ‘white powder evidence’ against Iraq in 2003\t158\t68 comments\t4 hours ago\t6\t20\n",
      "\n",
      "Benjamin Netanyahu's wife Sara admits misusing public funds - The wife of the Israeli Prime Minister Benjamin Netanyahu has admitted to misuse of state funds and will have to pay $15,000 (£11,910). She will have a criminal record, the Jerusalem Post reported.\t883\t67 comments\t14 hours ago\t6\t10\n",
      "\n",
      "Germany exports weapons to Saudi-led alliance in 2019 - The German government has given the green light for arms shipments worth over €1 billion so far this year to the Saudi-led coalition fighting in Yemen. The approval comes despite export restrictions being in place.\t556\t74 comments\t11 hours ago\t6\t13\n",
      "\n",
      "\t349\t8 comments\t9 hours ago\t6\t15\n",
      "\n",
      "Germany: U.S video not enough to attribute blame over oil tanker attacks\t321\t102 comments\t9 hours ago\t6\t15\n",
      "\n",
      "Boeing CEO concedes 'mistake' with planes in 2 fatal crashes; The US Federal Aviation Administration has faulted Boeing for not telling regulators for more than year that a safety indicator in the Max cockpit didn't work\t166\t36 comments\t6 hours ago\t6\t18\n",
      "\n",
      "'Doomsday predictions can no longer be met with disdain': Pope Francis calls carbon pricing 'essential'\t478\t53 comments\t12 hours ago\t6\t12\n",
      "\n",
      "Saudi Arabia May Execute Teenager for His Protests — Including When He Was 10\t98\t46 comments\t4 hours ago\t6\t19\n",
      "\n"
     ]
    }
   ],
   "source": [
    "for line in temp_tsv:\n",
    "    print(line)"
   ]
  },
  {
   "cell_type": "code",
   "execution_count": 144,
   "metadata": {},
   "outputs": [],
   "source": [
    "with open('test.tsv', 'w') as f:\n",
    "    for line in temp_tsv:\n",
    "        f.write(line)"
   ]
  },
  {
   "cell_type": "code",
   "execution_count": 152,
   "metadata": {},
   "outputs": [
    {
     "name": "stdout",
     "output_type": "stream",
     "text": [
      "\u001b[23B\u001b[m\u001b[37m\u001b[40m\u001b[1mtest| saul.pw/VisiData v1.5.2 | opening test as tsv | Ctrl+H \u001b[m\u001b[37m\u001b[40m \u001b[m\u001b[37m\u001b[40m\u001b[1m         0   0%\u001b[m\u001b[32m\u001b[40m \u001b[m\u001b[37m\u001b[40m\u001b[1m…\u001b[24;63H\u001b[m\u001b[m\u001b[37m\u001b[40m\u001b[H\u001b[C\u001b[m\u001b[37m\u001b[40m\u001b[1m\u001b[7m\u001b[4mtext\u001b[1;21H\u001b[m\u001b[34m\u001b[40m|\u001b[m\u001b[37m\u001b[40m\u001b[1m\u001b[4m score   \u001b[m\u001b[34m\u001b[40m|\u001b[m\u001b[37m\u001b[40m\u001b[1m\u001b[4m comment_count   \u001b[m\u001b[34m\u001b[40m|\u001b[m\u001b[37m\u001b[40m\u001b[1m\u001b[4m age            \u001b[m\u001b[34m\u001b[40m|\u001b[m\u001b[37m\u001b[40m\u001b[1m\u001b[4m day_of_week\u001b[m\u001b[34m\u001b[40m>\n",
      "\u001b[m\u001b[37m\u001b[40m\u001b[1m\u001b[7m Porn Sites in Hong…\u001b[m\u001b[m\u001b[37m\u001b[40m\u001b[7m| 48936   | 1359 comments   | 4 hours ago    | 6           \n",
      "\u001b[m\u001b[m\u001b[37m\u001b[40m\u001b[1m Massive power cut …\u001b[m\u001b[m\u001b[37m\u001b[40m| 25546   | 1183 comments   | 13 hours ago   | 6\n",
      "\u001b[m\u001b[37m\u001b[40m\u001b[1m The UK has now com…\u001b[m\u001b[m\u001b[37m\u001b[40m| 8674    | 514 comments    | 12 hours ago   | 6\n",
      "\u001b[m\u001b[37m\u001b[40m\u001b[1m Japan demands more…\u001b[m\u001b[m\u001b[37m\u001b[40m| 19052   | 1876 comments   | 15 hours ago   | 6\n",
      "\u001b[m\u001b[37m\u001b[40m\u001b[1m Hongkongers march …\u001b[m\u001b[m\u001b[37m\u001b[40m| 40652   | 1668 comments   | 16 hours ago   | 6\n",
      "\u001b[m\u001b[37m\u001b[40m\u001b[1m Hong Kong proteste…\u001b[m\u001b[m\u001b[37m\u001b[40m| 2685    | 163 comments    | 11 hours ago   | 6\n",
      "\u001b[m\u001b[37m\u001b[40m\u001b[1m Boris Johnson fail…\u001b[m\u001b[m\u001b[37m\u001b[40m| 3797    | 181 comments    | 13 hours ago   | 6\n",
      "\u001b[m\u001b[37m\u001b[40m\u001b[1m Many fliers say th…\u001b[m\u001b[m\u001b[37m\u001b[40m| 1990    | 583 comments    | 10 hours ago   | 6\n",
      "\u001b[m\u001b[37m\u001b[40m\u001b[1m Nearly 43% of the …\u001b[m\u001b[m\u001b[37m\u001b[40m| 1588    | 70 comments     | 10 hours ago   | 6\n",
      "\u001b[m\u001b[37m\u001b[40m\u001b[1m Boeing CEO concede…\u001b[m\u001b[m\u001b[37m\u001b[40m| 958     | 140 comments    | 8 hours ago    | 6\n",
      "\u001b[m\u001b[37m\u001b[40m\u001b[1m No dumping ground’…\u001b[m\u001b[m\u001b[37m\u001b[40m| 638     | 52 comments     | 7 hours ago    | 6\n",
      "\u001b[m\u001b[37m\u001b[40m\u001b[1m Donald Trump refus…\u001b[m\u001b[m\u001b[37m\u001b[40m| 1911    | 262 comments    | 14 hours ago   | 6\n",
      "\u001b[m\u001b[37m\u001b[40m\u001b[1m Germany joins chor…\u001b[m\u001b[m\u001b[37m\u001b[40m| 40107   | 3790 comments   | 22 hours ago   | 6\n",
      "\u001b[m\u001b[37m\u001b[40m\u001b[1m In Hong Kong prote…\u001b[m\u001b[m\u001b[37m\u001b[40m| 2615    | 130 comments    | 17 hours ago   | 6\n",
      "\u001b[m\u001b[37m\u001b[40m\u001b[1m EU says Russia con…\u001b[m\u001b[m\u001b[37m\u001b[40m| 316     | 29 comments     | 5 hours ago    | 6\n",
      "\u001b[m\u001b[37m\u001b[40m\u001b[1m Hong Kong: Dead An…\u001b[m\u001b[m\u001b[37m\u001b[40m| 824     | 47 comments     | 12 hours ago   | 6\n",
      "\u001b[m\u001b[37m\u001b[40m\u001b[1m 100 Ugandan Babies…\u001b[m\u001b[m\u001b[37m\u001b[40m| 120     | 25 comments     | 2 hours ago    | 6\n",
      "\u001b[m\u001b[37m\u001b[40m\u001b[1m Kremlin compares U…\u001b[m\u001b[m\u001b[37m\u001b[40m| 158     | 68 comments     | 4 hours ago    | 6\n",
      "\u001b[m\u001b[37m\u001b[40m\u001b[1m Benjamin Netanyahu…\u001b[m\u001b[m\u001b[37m\u001b[40m| 883     | 67 comments     | 14 hours ago   | 6\n",
      "\u001b[m\u001b[37m\u001b[40m\u001b[1m Germany exports we…\u001b[m\u001b[m\u001b[37m\u001b[40m| 556     | 74 comments     | 11 hours ago   | 6\n",
      "\u001b[m\u001b[37m\u001b[40m\u001b[1m                    \u001b[m\u001b[m\u001b[37m\u001b[40m| 349     | 8 comments\u001b[6C| 9 hours ago    | 6\n",
      "\u001b[m\u001b[37m\u001b[40m\u001b[1m Germany: U.S video…\u001b[m\u001b[m\u001b[37m\u001b[40m| 321     | 102 comments    | 9 hours ago    | 6\u001b[24;62H\u001b[m\u001b[37m\u001b[40m\u001b[1mo\u001b[m\u001b[37m\u001b[40m \u001b[24;72H\u001b[m\u001b[37m\u001b[40m\u001b[1m25 rows\u001b[24;64H\u001b[m\u001b[m\u001b[37m\u001b[40m\u001b[57D\u001b[33m\u001b[40m\u001b[1mno active threads on this sheet                       \u001b[m\u001b[37m\u001b[40m ^C\u001b[15C\u001b[33m\u001b[40m\u001b[1m \u001b[24;64H\u001b[m\u001b[m\u001b[37m\u001b[40m\u001b[24;10H\u001b[33m\u001b[40m\u001b[1mcommand \"dive-row\"          \u001b[24;63H\u001b[m\u001b[37m\u001b[40mJ\u001b[m\u001b[m\u001b[37m\u001b[40m"
     ]
    }
   ],
   "source": [
    "!vd test.tsv"
   ]
  },
  {
   "cell_type": "code",
   "execution_count": null,
   "metadata": {},
   "outputs": [],
   "source": []
  }
 ],
 "metadata": {
  "kernelspec": {
   "display_name": "learn-env",
   "language": "python",
   "name": "learn-env"
  },
  "language_info": {
   "codemirror_mode": {
    "name": "ipython",
    "version": 3
   },
   "file_extension": ".py",
   "mimetype": "text/x-python",
   "name": "python",
   "nbconvert_exporter": "python",
   "pygments_lexer": "ipython3",
   "version": "3.6.6"
  }
 },
 "nbformat": 4,
 "nbformat_minor": 2
}
