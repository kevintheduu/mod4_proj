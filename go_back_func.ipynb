{
 "cells": [
  {
   "cell_type": "markdown",
   "metadata": {},
   "source": [
    "## This worksheet contains a demo of going backwards 100 times \n",
    "## Proof of concept"
   ]
  },
  {
   "cell_type": "code",
   "execution_count": 5,
   "metadata": {},
   "outputs": [],
   "source": [
    "from selenium.webdriver import Chrome\n",
    "from selenium.webdriver.common.action_chains import ActionChains\n",
    "import random\n",
    "import time\n",
    "%load_ext autoreload\n",
    "%autoreload 2"
   ]
  },
  {
   "cell_type": "code",
   "execution_count": 9,
   "metadata": {},
   "outputs": [],
   "source": [
    "browser = Chrome()\n",
    "url = 'https://web.archive.org/web/20190617005258/https://old.reddit.com/r/worldnews/'\n",
    "browser.get(url)"
   ]
  },
  {
   "cell_type": "code",
   "execution_count": 4,
   "metadata": {},
   "outputs": [],
   "source": [
    "def go_back(browser):\n",
    "    \"\"\"Go to the previous page. There is not an archive for every day of old.reddit.com/r/worldnews\n",
    "        but its okay, we just need to get enough datapoints.\"\"\"\n",
    "    shadow_section = browser.execute_script(\n",
    "    '''return document.querySelector(\"div\").shadowRoot''')\n",
    "    #nav_buttons = browser.find_elements_by_css_selector(sel)\n",
    "    #prev_button = nav_buttons[1]\n",
    "    prev_button = shadow_section.find_element_by_css_selector(\n",
    "    '#wm-ipp-inside > div:nth-child(1) > table > tbody > tr:nth-child(1)'+ \\\n",
    "    ' > td.n > table > tbody > tr.d > td.b > a')\n",
    "    prev_button.click()"
   ]
  },
  {
   "cell_type": "code",
   "execution_count": null,
   "metadata": {},
   "outputs": [],
   "source": [
    "for i in range(100):\n",
    "    go_back(browser)\n",
    "    time.sleep(3 + random.random()*10)"
   ]
  },
  {
   "cell_type": "code",
   "execution_count": null,
   "metadata": {},
   "outputs": [],
   "source": []
  }
 ],
 "metadata": {
  "kernelspec": {
   "display_name": "learn-env",
   "language": "python",
   "name": "learn-env"
  },
  "language_info": {
   "codemirror_mode": {
    "name": "ipython",
    "version": 3
   },
   "file_extension": ".py",
   "mimetype": "text/x-python",
   "name": "python",
   "nbconvert_exporter": "python",
   "pygments_lexer": "ipython3",
   "version": "3.7.1"
  }
 },
 "nbformat": 4,
 "nbformat_minor": 2
}
