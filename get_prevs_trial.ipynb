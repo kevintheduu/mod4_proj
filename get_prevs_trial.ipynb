{
 "cells": [
  {
   "cell_type": "code",
   "execution_count": 43,
   "metadata": {},
   "outputs": [],
   "source": [
    "from selenium.webdriver import Chrome\n",
    "from selenium.webdriver.common.action_chains import ActionChains"
   ]
  },
  {
   "cell_type": "code",
   "execution_count": null,
   "metadata": {},
   "outputs": [],
   "source": [
    "browser = Chrome()\n",
    "url = 'https://web.archive.org/web/20190617005258/https://old.reddit.com/r/worldnews/'\n",
    "browser.get(url)"
   ]
  },
  {
   "cell_type": "code",
   "execution_count": null,
   "metadata": {},
   "outputs": [],
   "source": []
  },
  {
   "cell_type": "code",
   "execution_count": 20,
   "metadata": {},
   "outputs": [],
   "source": [
    "shadow_section = browser.execute_script(\n",
    "    '''return document.querySelector(\"div\").shadowRoot''')"
   ]
  },
  {
   "cell_type": "markdown",
   "metadata": {},
   "source": [
    "# BIG THANK YOU TO EDUARD FOR PROVIDING A TEMPLATE FOR NAVIGATING INTO SHADOW ROOTS\n",
    "\n",
    "https://stackoverflow.com/questions/36141681/does-anybody-know-how-to-identify-shadow-dom-web-elements-using-selenium-webdriv\n",
    "\n",
    "edited May 16 '16 at 10:57\n",
    "answered May 14 '16 at 23:59\n",
    "\n",
    "Eduard Florinescu\n",
    "5,9012381143"
   ]
  },
  {
   "cell_type": "code",
   "execution_count": 21,
   "metadata": {},
   "outputs": [],
   "source": [
    "element = shadow_section.find_element_by_css_selector(\n",
    "    '#wm-ipp-inside > div:nth-child(1) > table > tbody > tr:nth-child(1) > td.n > table > tbody > tr.d > td.b > a')"
   ]
  },
  {
   "cell_type": "code",
   "execution_count": 22,
   "metadata": {},
   "outputs": [
    {
     "data": {
      "text/plain": [
       "'https://web.archive.org/web/20190615235503/https://old.reddit.com/r/worldnews/'"
      ]
     },
     "execution_count": 22,
     "metadata": {},
     "output_type": "execute_result"
    }
   ],
   "source": [
    "element.get_attribute('href')"
   ]
  },
  {
   "cell_type": "code",
   "execution_count": 23,
   "metadata": {},
   "outputs": [],
   "source": [
    "# DANCE"
   ]
  },
  {
   "cell_type": "markdown",
   "metadata": {},
   "source": [
    "Lets test on a day that doesn't have a previous archive"
   ]
  },
  {
   "cell_type": "code",
   "execution_count": 25,
   "metadata": {},
   "outputs": [],
   "source": [
    "url = 'https://web.archive.org/web/20190130020905/https://old.reddit.com/r/worldnews/'\n",
    "browser.get(url)"
   ]
  },
  {
   "cell_type": "code",
   "execution_count": 26,
   "metadata": {},
   "outputs": [],
   "source": [
    "shadow_section = browser.execute_script(\n",
    "    '''return document.querySelector(\"div\").shadowRoot''')"
   ]
  },
  {
   "cell_type": "code",
   "execution_count": 27,
   "metadata": {},
   "outputs": [],
   "source": [
    "element = shadow_section.find_element_by_css_selector(\n",
    "    '#wm-ipp-inside > div:nth-child(1) > table > tbody > tr:nth-child(1)'+ \\\n",
    "    ' > td.n > table > tbody > tr.d > td.b > a')\n",
    "prev = element.get_attribute('href')"
   ]
  },
  {
   "cell_type": "code",
   "execution_count": 35,
   "metadata": {},
   "outputs": [],
   "source": [
    "browser.get(prev)"
   ]
  },
  {
   "cell_type": "code",
   "execution_count": 36,
   "metadata": {},
   "outputs": [],
   "source": [
    "def get_prev(browser):\n",
    "    \"\"\"Go to the previous page. There is not an archive for every day of old.reddit.com/r/worldnews\n",
    "        but its okay, we just need to get enough datapoints.\"\"\"\n",
    "    shadow_section = browser.execute_script(\n",
    "    '''return document.querySelector(\"div\").shadowRoot''')\n",
    "    #nav_buttons = browser.find_elements_by_css_selector(sel)\n",
    "    #prev_button = nav_buttons[1]\n",
    "    prev_button = shadow_section.find_element_by_css_selector(\n",
    "    '#wm-ipp-inside > div:nth-child(1) > table > tbody > tr:nth-child(1)'+ \\\n",
    "    ' > td.n > table > tbody > tr.d > td.b > a')\n",
    "    prev_button.click()"
   ]
  },
  {
   "cell_type": "code",
   "execution_count": 41,
   "metadata": {},
   "outputs": [],
   "source": [
    "get_prev(browser)"
   ]
  },
  {
   "cell_type": "code",
   "execution_count": null,
   "metadata": {},
   "outputs": [],
   "source": []
  }
 ],
 "metadata": {
  "kernelspec": {
   "display_name": "learn-env",
   "language": "python",
   "name": "learn-env"
  },
  "language_info": {
   "codemirror_mode": {
    "name": "ipython",
    "version": 3
   },
   "file_extension": ".py",
   "mimetype": "text/x-python",
   "name": "python",
   "nbconvert_exporter": "python",
   "pygments_lexer": "ipython3",
   "version": "3.7.1"
  }
 },
 "nbformat": 4,
 "nbformat_minor": 2
}
