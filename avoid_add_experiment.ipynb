{
 "cells": [
  {
   "cell_type": "code",
   "execution_count": 3,
   "metadata": {},
   "outputs": [],
   "source": [
    "import pandas as pd\n",
    "from selenium.webdriver import Chrome\n",
    "from selenium.webdriver.common.action_chains import ActionChains"
   ]
  },
  {
   "cell_type": "code",
   "execution_count": 4,
   "metadata": {},
   "outputs": [],
   "source": [
    "browser = Chrome()\n",
    "url = 'https://web.archive.org/web/20190205180715/https://old.reddit.com/r/worldnews/'\n",
    "browser.get(url)"
   ]
  },
  {
   "cell_type": "code",
   "execution_count": 31,
   "metadata": {},
   "outputs": [],
   "source": [
    "table = browser.find_element_by_css_selector('div#siteTable')"
   ]
  },
  {
   "cell_type": "code",
   "execution_count": 67,
   "metadata": {},
   "outputs": [],
   "source": [
    "elements = browser.find_elements_by_xpath('//*[contains(@id, \"thing\")]')"
   ]
  },
  {
   "cell_type": "code",
   "execution_count": 68,
   "metadata": {},
   "outputs": [
    {
     "data": {
      "text/plain": [
       "[<selenium.webdriver.remote.webelement.WebElement (session=\"55d904e1d7ca135c9812523778797c0e\", element=\"0.1959664580471565-344\")>,\n",
       " <selenium.webdriver.remote.webelement.WebElement (session=\"55d904e1d7ca135c9812523778797c0e\", element=\"0.1959664580471565-3\")>,\n",
       " <selenium.webdriver.remote.webelement.WebElement (session=\"55d904e1d7ca135c9812523778797c0e\", element=\"0.1959664580471565-18\")>,\n",
       " <selenium.webdriver.remote.webelement.WebElement (session=\"55d904e1d7ca135c9812523778797c0e\", element=\"0.1959664580471565-31\")>,\n",
       " <selenium.webdriver.remote.webelement.WebElement (session=\"55d904e1d7ca135c9812523778797c0e\", element=\"0.1959664580471565-44\")>,\n",
       " <selenium.webdriver.remote.webelement.WebElement (session=\"55d904e1d7ca135c9812523778797c0e\", element=\"0.1959664580471565-57\")>,\n",
       " <selenium.webdriver.remote.webelement.WebElement (session=\"55d904e1d7ca135c9812523778797c0e\", element=\"0.1959664580471565-70\")>,\n",
       " <selenium.webdriver.remote.webelement.WebElement (session=\"55d904e1d7ca135c9812523778797c0e\", element=\"0.1959664580471565-83\")>,\n",
       " <selenium.webdriver.remote.webelement.WebElement (session=\"55d904e1d7ca135c9812523778797c0e\", element=\"0.1959664580471565-96\")>,\n",
       " <selenium.webdriver.remote.webelement.WebElement (session=\"55d904e1d7ca135c9812523778797c0e\", element=\"0.1959664580471565-109\")>,\n",
       " <selenium.webdriver.remote.webelement.WebElement (session=\"55d904e1d7ca135c9812523778797c0e\", element=\"0.1959664580471565-122\")>,\n",
       " <selenium.webdriver.remote.webelement.WebElement (session=\"55d904e1d7ca135c9812523778797c0e\", element=\"0.1959664580471565-135\")>,\n",
       " <selenium.webdriver.remote.webelement.WebElement (session=\"55d904e1d7ca135c9812523778797c0e\", element=\"0.1959664580471565-148\")>,\n",
       " <selenium.webdriver.remote.webelement.WebElement (session=\"55d904e1d7ca135c9812523778797c0e\", element=\"0.1959664580471565-161\")>,\n",
       " <selenium.webdriver.remote.webelement.WebElement (session=\"55d904e1d7ca135c9812523778797c0e\", element=\"0.1959664580471565-174\")>,\n",
       " <selenium.webdriver.remote.webelement.WebElement (session=\"55d904e1d7ca135c9812523778797c0e\", element=\"0.1959664580471565-187\")>,\n",
       " <selenium.webdriver.remote.webelement.WebElement (session=\"55d904e1d7ca135c9812523778797c0e\", element=\"0.1959664580471565-200\")>,\n",
       " <selenium.webdriver.remote.webelement.WebElement (session=\"55d904e1d7ca135c9812523778797c0e\", element=\"0.1959664580471565-213\")>,\n",
       " <selenium.webdriver.remote.webelement.WebElement (session=\"55d904e1d7ca135c9812523778797c0e\", element=\"0.1959664580471565-226\")>,\n",
       " <selenium.webdriver.remote.webelement.WebElement (session=\"55d904e1d7ca135c9812523778797c0e\", element=\"0.1959664580471565-239\")>,\n",
       " <selenium.webdriver.remote.webelement.WebElement (session=\"55d904e1d7ca135c9812523778797c0e\", element=\"0.1959664580471565-252\")>,\n",
       " <selenium.webdriver.remote.webelement.WebElement (session=\"55d904e1d7ca135c9812523778797c0e\", element=\"0.1959664580471565-265\")>,\n",
       " <selenium.webdriver.remote.webelement.WebElement (session=\"55d904e1d7ca135c9812523778797c0e\", element=\"0.1959664580471565-278\")>,\n",
       " <selenium.webdriver.remote.webelement.WebElement (session=\"55d904e1d7ca135c9812523778797c0e\", element=\"0.1959664580471565-291\")>,\n",
       " <selenium.webdriver.remote.webelement.WebElement (session=\"55d904e1d7ca135c9812523778797c0e\", element=\"0.1959664580471565-304\")>,\n",
       " <selenium.webdriver.remote.webelement.WebElement (session=\"55d904e1d7ca135c9812523778797c0e\", element=\"0.1959664580471565-317\")>,\n",
       " <selenium.webdriver.remote.webelement.WebElement (session=\"55d904e1d7ca135c9812523778797c0e\", element=\"0.1959664580471565-330\")>]"
      ]
     },
     "execution_count": 68,
     "metadata": {},
     "output_type": "execute_result"
    }
   ],
   "source": [
    "elements"
   ]
  },
  {
   "cell_type": "markdown",
   "metadata": {},
   "source": [
    "https://sqa.stackexchange.com/questions/18354/how-to-identify-element-with-knowledge-of-partial-text-for-any-tag-eg-div-span/18356\n",
    "\n",
    "HALLELUJAH!\n",
    "\n",
    "Big thanks to \n",
    "edited Jul 13 '17 at 4:08\n",
    "\n",
    "alecxe♦\n",
    "7,81473591\n",
    "answered Apr 28 '16 at 9:01\n",
    "\n",
    "Sagar007\n",
    "1,0751721"
   ]
  },
  {
   "cell_type": "code",
   "execution_count": 57,
   "metadata": {},
   "outputs": [
    {
     "name": "stdout",
     "output_type": "stream",
     "text": [
      "start\n",
      "•\n",
      "We're Roman, and we're changing the way guys treat Erectile Dysfunction. We connect you with real doctors, and can ship FDA approved medication right to your door. (getroman.com)\n",
      "promoted by getroman\n",
      "promotedsavereport\n",
      "fin\n",
      "\n",
      "start\n",
      "233\n",
      "AMA Finished[AMA] I'm Emma Best, one of the co-founders of Distributed Denial of Secrets (@DDoSecrets) – Ask Me Anything! (self.worldnews)\n",
      "submitted 1 day ago * by NatSecGeekEmma Best - announcement\n",
      "196 commentssharesavehidereport\n",
      "fin\n",
      "\n",
      "start\n",
      "1\n",
      "9601\n",
      "Female genital mutilation (FGM) is increasingly being performed on babies and infants in the UK - In one report, in Yorkshire, a victim was just one month old. (bbc.com)\n",
      "submitted 7 hours ago by mvea\n",
      "2938 commentssharesavehidereport\n",
      "fin\n",
      "\n",
      "start\n",
      "2\n",
      "14.3k\n",
      "Trump Says He Wants US Troops in Iraq to \"Watch Iran.\" Iraqis' Response: Get Out. \"Trump did not ask us to keep U.S. troops to watch Iran,\" says Iraqi president. (commondreams.org)\n",
      "submitted 8 hours ago by madazzahatter\n",
      "1166 commentssharesavehidereport\n",
      "fin\n",
      "\n",
      "start\n",
      "3\n",
      "1259\n",
      "Secret Files Show How Trump Moscow Talks Unfolded While Trump Heaped Praise On Putin (buzzfeed.com)\n",
      "submitted 3 hours ago by wwwdotvotedotgov\n",
      "168 commentssharesavehidereport\n",
      "fin\n",
      "\n",
      "start\n",
      "4\n",
      "4730\n",
      "Father of American missionary who was killed while trying to convert isolated Indian Ocean tribe blames evangelicals' 'extreme Christianity' for the death of his 'innocent child (dailymail.co.uk)\n",
      "submitted 14 hours ago by TekOg\n",
      "796 commentssharesavehidereport\n",
      "fin\n",
      "\n",
      "start\n",
      "5\n",
      "784\n",
      "A Belgian environment minister is facing a storm of protest after falsely claiming the country’s intelligence services held evidence that children skipping school to demonstrate over climate change are being directed by unnamed powers. (theguardian.com)\n",
      "submitted 6 hours ago by ManiaforBeatles\n",
      "120 commentssharesavehidereport\n",
      "fin\n",
      "\n",
      "start\n",
      "6\n",
      "569\n",
      "Saudi Female Activists Subject to Torture, Kept in Inhumane Conditions - British MPs Report (albawaba.com)\n",
      "submitted 6 hours ago by ahm713\n",
      "45 commentssharesavehidereport\n",
      "fin\n",
      "\n",
      "start\n",
      "7\n",
      "417\n",
      "Poachers driving African parrots extinct in spiralling ‘exotic’ pet trade, investigators say (independent.co.uk)\n",
      "submitted 5 hours ago by QuietCakeBionics\n",
      "26 commentssharesavehidereport\n",
      "fin\n",
      "\n",
      "start\n",
      "8\n",
      "710\n",
      "Arrests made after Al Jazeera investigation into French far right (aljazeera.com)\n",
      "submitted 8 hours ago by CatsEyesInTheDark\n",
      "78 commentssharesavehidereport\n",
      "fin\n",
      "\n",
      "start\n",
      "9\n",
      "238\n",
      "Secret Files Show How Trump Moscow Talks Unfolded While Trump Heaped Praise On Putin (buzzfeednews.com)\n",
      "submitted 3 hours ago by tank_trap\n",
      "117 commentssharesavehidereport\n",
      "fin\n",
      "\n",
      "start\n",
      "10\n",
      "3325\n",
      "Gut Bacteria Linked to Depression Identified (neurosciencenews.com)\n",
      "submitted 18 hours ago by StcStasi\n",
      "603 commentssharesavehidereport\n",
      "fin\n",
      "\n",
      "start\n",
      "11\n",
      "220\n",
      "Rights group says global democracy ‘in retreat’ for 13th year (politico.eu)\n",
      "submitted 3 hours ago by ThucydidesOfAthens\n",
      "40 commentssharesavehidereport\n",
      "fin\n",
      "\n",
      "start\n",
      "12\n",
      "2179\n",
      "A defiant Mark Zuckerberg says people are focusing on the 'negative' aspects of Facebook's impact on the world (businessinsider.com)\n",
      "submitted 17 hours ago by Devz0r\n",
      "511 commentssharesavehidereport\n",
      "fin\n",
      "\n",
      "start\n",
      "13\n",
      "268\n",
      "Khashoggi's fiancee publishes book in memory of slain journalist (aljazeera.com)\n",
      "submitted 8 hours ago by ahm713\n",
      "27 commentssharesavehidereport\n",
      "fin\n",
      "\n",
      "start\n",
      "14\n",
      "150\n",
      "UK CO2 emissions fall again (bbc.co.uk)\n",
      "submitted 6 hours ago by carpie101\n",
      "29 commentssharesavehidereport\n",
      "fin\n",
      "\n",
      "start\n",
      "15\n",
      "178\n",
      "Japan's Deputy Prime Minister has caused consternation after appearing to blame the country's low birth-rate on women. (bbc.com)\n",
      "submitted 7 hours ago by tieir\n",
      "105 commentssharesavehidereport\n",
      "fin\n",
      "\n",
      "start\n",
      "16\n",
      "31.8k\n",
      "US prosecutors reportedly subpoena Trump golf courses in Scotland, which some Democrats worry might have been funded by Russian money (businessinsider.com)\n",
      "submitted 1 day ago by wwwdotvotedotgov\n",
      "1851 commentssharesavehidereport\n",
      "fin\n",
      "\n",
      "start\n",
      "17\n",
      "127\n",
      "Karl Marx' Grave Attacked in London (itv.com)\n",
      "submitted 6 hours ago by lofty_landlubber\n",
      "290 commentssharesavehidereport\n",
      "fin\n",
      "\n",
      "start\n",
      "18\n",
      "47\n",
      "Former ISIS sex slaves sheltered in Canada threatened with phone calls, texts (ctvnews.ca)\n",
      "submitted 2 hours ago by BeckTaxiKilledMyDog\n",
      "8 commentssharesavehidereport\n",
      "fin\n",
      "\n",
      "start\n",
      "19\n",
      "3118\n",
      "Norway urges students to avoid UK universities in Brexit warning (theguardian.com)\n",
      "submitted 1 day ago by Smilefriend\n",
      "477 commentssharesavehidereport\n",
      "fin\n",
      "\n",
      "start\n",
      "20\n",
      "48\n",
      "Melting glaciers reveal ancient landscapes, thawing mummies, and long-dead diseases (popsci.com)\n",
      "submitted 2 hours ago by asheraton\n",
      "9 commentssharesavehidereport\n",
      "fin\n",
      "\n",
      "start\n",
      "21\n",
      "205\n",
      "A third of Himalayan glaciers can no longer be saved: study (apnews.com)\n",
      "submitted 11 hours ago by thisdodobird\n",
      "29 commentssharesavehidereport\n",
      "fin\n",
      "\n",
      "start\n",
      "22\n",
      "41\n",
      "Instagram's most-liked egg revealed as mental health advert (bbc.com)\n",
      "submitted 3 hours ago by ktij\n",
      "3 commentssharesavehidereport\n",
      "fin\n",
      "\n",
      "start\n",
      "23\n",
      "24.4k\n",
      "[Update] Woman who recently outed Oprah's Brazilian faith healer \"John of God\" for murdering teenage sex slaves and running a \"baby farm\" adoption operation committed suicide yesterday. (thesun.co.uk)\n",
      "submitted 1 day ago by AppliedAspergers\n",
      "2077 commentssharesavehidereport\n",
      "fin\n",
      "\n",
      "start\n",
      "24\n",
      "919\n",
      "Norway Intelligence Service Adds Huawei on National Security Threat List (tnp.no)\n",
      "submitted 21 hours ago by ahm713\n",
      "143 commentssharesavehidereport\n",
      "fin\n",
      "\n",
      "start\n",
      "25\n",
      "73\n",
      "Thaw of Himalayas set to disrupt Asia's rivers, crops: study (in.reuters.com)\n",
      "submitted 7 hours ago by joblessnerd\n",
      "6 commentssharesavehidereport\n",
      "fin\n",
      "\n"
     ]
    }
   ],
   "source": [
    "for element in elements:\n",
    "    if element.get_attribute\n",
    "    print('start')\n",
    "    print(element.text)\n",
    "    print('fin\\n')"
   ]
  },
  {
   "cell_type": "code",
   "execution_count": 69,
   "metadata": {},
   "outputs": [],
   "source": [
    "ad, announce, real = elements[:3]"
   ]
  },
  {
   "cell_type": "code",
   "execution_count": 74,
   "metadata": {},
   "outputs": [
    {
     "data": {
      "text/plain": [
       "' thing id-t3_ajcys7 link promoted odd  locked controversial promotedlink promotedlink '"
      ]
     },
     "execution_count": 74,
     "metadata": {},
     "output_type": "execute_result"
    }
   ],
   "source": [
    "ad.get_attribute('class')"
   ]
  },
  {
   "cell_type": "code",
   "execution_count": 75,
   "metadata": {},
   "outputs": [
    {
     "name": "stdout",
     "output_type": "stream",
     "text": [
      " thing id-t3_ajcys7 link promoted odd  locked controversial promotedlink promotedlink \n",
      " thing id-t3_an2czo linkflair linkflair-normal odd  stickied link self\n",
      " thing id-t3_and1e7 even  link \n",
      " thing id-t3_ancmpi linkflair linkflair-trump odd  link \n",
      " thing id-t3_anemro linkflair linkflair-trump even  link \n",
      " thing id-t3_ana4d6 odd  link \n",
      " thing id-t3_and8py even  link \n",
      " thing id-t3_andba5 odd  link \n",
      " thing id-t3_andmf6 even  link \n",
      " thing id-t3_ancfm0 odd  link \n",
      " thing id-t3_anepc0 linkflair linkflair-trump even  link \n",
      " thing id-t3_an800u odd  link \n",
      " thing id-t3_anefo2 even  link \n",
      " thing id-t3_an8hqq odd  link \n",
      " thing id-t3_anckr3 even  link \n",
      " thing id-t3_andg6e odd  link \n",
      " thing id-t3_ancza2 even  link \n",
      " thing id-t3_an25vp linkflair linkflair-trump odd  link \n",
      " thing id-t3_andfac even  link \n",
      " thing id-t3_anfdjw odd  link \n",
      " thing id-t3_an3qg7 even  link \n",
      " thing id-t3_anf42y odd  link \n",
      " thing id-t3_anbm2e even  link \n",
      " thing id-t3_anevjp odd  link \n",
      " thing id-t3_an0cnt even  link \n",
      " thing id-t3_an6bz0 odd  link \n",
      " thing id-t3_ancvr2 even  link \n"
     ]
    }
   ],
   "source": [
    "for element in elements:\n",
    "    print(element.get_attribute('class'))"
   ]
  },
  {
   "cell_type": "markdown",
   "metadata": {},
   "source": [
    "It appears real valid hot submissions elements have a class that does not include promoted or stickied   \n",
    "Will have to test on other pages to confirm  "
   ]
  },
  {
   "cell_type": "code",
   "execution_count": 80,
   "metadata": {},
   "outputs": [
    {
     "name": "stdout",
     "output_type": "stream",
     "text": [
      "_ \n",
      "_ \n",
      "_ 1\n",
      "_ 2\n",
      "_ 3\n",
      "_ 4\n",
      "_ 5\n",
      "_ 6\n",
      "_ 7\n",
      "_ 8\n",
      "_ 9\n",
      "_ 10\n",
      "_ 11\n",
      "_ 12\n",
      "_ 13\n",
      "_ 14\n",
      "_ 15\n",
      "_ 16\n",
      "_ 17\n",
      "_ 18\n",
      "_ 19\n",
      "_ 20\n",
      "_ 21\n",
      "_ 22\n",
      "_ 23\n",
      "_ 24\n",
      "_ 25\n"
     ]
    }
   ],
   "source": [
    "for element in elements:\n",
    "    print('_', element.get_attribute('data-rank'))"
   ]
  },
  {
   "cell_type": "markdown",
   "metadata": {},
   "source": [
    "We can conditionally select only elements that have a rank!"
   ]
  },
  {
   "cell_type": "code",
   "execution_count": 82,
   "metadata": {},
   "outputs": [
    {
     "data": {
      "text/plain": [
       "(25,\n",
       " '1\\n9601\\nFemale genital mutilation (FGM) is increasingly being performed on babies and infants in the UK - In one report, in Yorkshire, a victim was just one month old. (bbc.com)\\nsubmitted 7 hours ago by mvea\\n2938 commentssharesavehidereport')"
      ]
     },
     "execution_count": 82,
     "metadata": {},
     "output_type": "execute_result"
    }
   ],
   "source": [
    "pruned_elements = [element for element in elements if element.get_attribute('data-rank')]\n",
    "len(pruned_elements), pruned_elements[0].text"
   ]
  },
  {
   "cell_type": "markdown",
   "metadata": {},
   "source": [
    "Can we get the features from these elements?"
   ]
  },
  {
   "cell_type": "code",
   "execution_count": 86,
   "metadata": {},
   "outputs": [
    {
     "name": "stdout",
     "output_type": "stream",
     "text": [
      "1\n",
      "9601\n",
      "Female genital mutilation (FGM) is increasingly being performed on babies and infants in the UK - In one report, in Yorkshire, a victim was just one month old. (bbc.com)\n",
      "submitted 7 hours ago by mvea\n",
      "2938 commentssharesavehidereport\n",
      "2\n",
      "14.3k\n",
      "Trump Says He Wants US Troops in Iraq to \"Watch Iran.\" Iraqis' Response: Get Out. \"Trump did not ask us to keep U.S. troops to watch Iran,\" says Iraqi president. (commondreams.org)\n",
      "submitted 8 hours ago by madazzahatter\n",
      "1166 commentssharesavehidereport\n",
      "3\n",
      "1259\n",
      "Secret Files Show How Trump Moscow Talks Unfolded While Trump Heaped Praise On Putin (buzzfeed.com)\n",
      "submitted 3 hours ago by wwwdotvotedotgov\n",
      "168 commentssharesavehidereport\n"
     ]
    }
   ],
   "source": [
    "for element in pruned_elements[:3]:\n",
    "    print(element.text)"
   ]
  },
  {
   "cell_type": "code",
   "execution_count": 87,
   "metadata": {},
   "outputs": [
    {
     "data": {
      "text/plain": [
       "['1',\n",
       " '9601',\n",
       " 'Female genital mutilation (FGM) is increasingly being performed on babies and infants in the UK - In one report, in Yorkshire, a victim was just one month old. (bbc.com)',\n",
       " 'submitted 7 hours ago by mvea',\n",
       " '2938 commentssharesavehidereport']"
      ]
     },
     "execution_count": 87,
     "metadata": {},
     "output_type": "execute_result"
    }
   ],
   "source": [
    "real.text.split('\\n')"
   ]
  },
  {
   "cell_type": "markdown",
   "metadata": {},
   "source": [
    "Could hacky get these, is there a better way to access the elements inside the elements??"
   ]
  },
  {
   "cell_type": "code",
   "execution_count": 94,
   "metadata": {},
   "outputs": [
    {
     "data": {
      "text/plain": [
       "'Female genital mutilation (FGM) is increasingly being performed on babies and infants in the UK - In one report, in Yorkshire, a victim was just one month old.'"
      ]
     },
     "execution_count": 94,
     "metadata": {},
     "output_type": "execute_result"
    }
   ],
   "source": [
    "real.find_element_by_css_selector('a.title.may-blank.outbound').text"
   ]
  },
  {
   "cell_type": "markdown",
   "metadata": {},
   "source": [
    "This appears to have extracted the text more accurately  \n",
    "Sanity check for each element?"
   ]
  },
  {
   "cell_type": "code",
   "execution_count": 99,
   "metadata": {},
   "outputs": [
    {
     "name": "stdout",
     "output_type": "stream",
     "text": [
      "1 - - Female genital mutilation (FGM) is increasingly being performed on babies and infants in the UK - In one report, in Yorkshire, a victim was just one month old. \n",
      "\n",
      "2 - - Trump Says He Wants US Troops in Iraq to \"Watch Iran.\" Iraqis' Response: Get Out. \"Trump did not ask us to keep U.S. troops to watch Iran,\" says Iraqi president. \n",
      "\n",
      "3 - - Secret Files Show How Trump Moscow Talks Unfolded While Trump Heaped Praise On Putin \n",
      "\n",
      "4 - - Father of American missionary who was killed while trying to convert isolated Indian Ocean tribe blames evangelicals' 'extreme Christianity' for the death of his 'innocent child \n",
      "\n",
      "5 - - A Belgian environment minister is facing a storm of protest after falsely claiming the country’s intelligence services held evidence that children skipping school to demonstrate over climate change are being directed by unnamed powers. \n",
      "\n",
      "6 - - Saudi Female Activists Subject to Torture, Kept in Inhumane Conditions - British MPs Report \n",
      "\n",
      "7 - - Poachers driving African parrots extinct in spiralling ‘exotic’ pet trade, investigators say \n",
      "\n",
      "8 - - Arrests made after Al Jazeera investigation into French far right \n",
      "\n",
      "9 - - Secret Files Show How Trump Moscow Talks Unfolded While Trump Heaped Praise On Putin \n",
      "\n",
      "10 - - Gut Bacteria Linked to Depression Identified \n",
      "\n",
      "11 - - Rights group says global democracy ‘in retreat’ for 13th year \n",
      "\n",
      "12 - - A defiant Mark Zuckerberg says people are focusing on the 'negative' aspects of Facebook's impact on the world \n",
      "\n",
      "13 - - Khashoggi's fiancee publishes book in memory of slain journalist \n",
      "\n",
      "14 - - UK CO2 emissions fall again \n",
      "\n",
      "15 - - Japan's Deputy Prime Minister has caused consternation after appearing to blame the country's low birth-rate on women. \n",
      "\n",
      "16 - - US prosecutors reportedly subpoena Trump golf courses in Scotland, which some Democrats worry might have been funded by Russian money \n",
      "\n",
      "17 - - Karl Marx' Grave Attacked in London \n",
      "\n",
      "18 - - Former ISIS sex slaves sheltered in Canada threatened with phone calls, texts \n",
      "\n",
      "19 - - Norway urges students to avoid UK universities in Brexit warning \n",
      "\n",
      "20 - - Melting glaciers reveal ancient landscapes, thawing mummies, and long-dead diseases \n",
      "\n",
      "21 - - A third of Himalayan glaciers can no longer be saved: study \n",
      "\n",
      "22 - - Instagram's most-liked egg revealed as mental health advert \n",
      "\n",
      "23 - - [Update] Woman who recently outed Oprah's Brazilian faith healer \"John of God\" for murdering teenage sex slaves and running a \"baby farm\" adoption operation committed suicide yesterday. \n",
      "\n",
      "24 - - Norway Intelligence Service Adds Huawei on National Security Threat List \n",
      "\n",
      "25 - - Thaw of Himalayas set to disrupt Asia's rivers, crops: study \n",
      "\n"
     ]
    }
   ],
   "source": [
    "for i, element in enumerate(pruned_elements):\n",
    "    title = element.find_element_by_css_selector('a.title.may-blank.outbound')\n",
    "    print(i+1, '- -', title.text, '\\n')"
   ]
  },
  {
   "cell_type": "markdown",
   "metadata": {},
   "source": [
    "That works can we extract score, comment count, age, and timestamp as well?"
   ]
  },
  {
   "cell_type": "code",
   "execution_count": 102,
   "metadata": {},
   "outputs": [],
   "source": [
    "title = real.find_element_by_css_selector('a.title.may-blank.outbound')\n",
    "time = real.find_element_by_css_selector('time.live-timestamp')"
   ]
  },
  {
   "cell_type": "code",
   "execution_count": 119,
   "metadata": {},
   "outputs": [
    {
     "name": "stdout",
     "output_type": "stream",
     "text": [
      "text: Female genital mutilation (FGM) is increasingly being performed on babies and infants in the UK - In one report, in Yorkshire, a victim was just one month old.,\n",
      "\n",
      "score: 9601,\n",
      "\n",
      "num_comments: 2938,\n",
      "\n",
      "age: 7 hours ago,\n",
      "\n",
      "timestamp: Tue Feb 5 11:01:00 2019 UTC\n"
     ]
    }
   ],
   "source": [
    "print(f\"\"\"text: {title.text},\\n\n",
    "score: {real.get_attribute('data-score')},\\n\n",
    "num_comments: {real.get_attribute('data-comments-count')},\\n\n",
    "age: {time.text},\\n\n",
    "timestamp: {time.get_attribute('title')}\"\"\")"
   ]
  },
  {
   "cell_type": "markdown",
   "metadata": {},
   "source": [
    "## WELL THATS PROMISING!"
   ]
  },
  {
   "cell_type": "code",
   "execution_count": null,
   "metadata": {},
   "outputs": [],
   "source": []
  }
 ],
 "metadata": {
  "kernelspec": {
   "display_name": "learn-env",
   "language": "python",
   "name": "learn-env"
  },
  "language_info": {
   "codemirror_mode": {
    "name": "ipython",
    "version": 3
   },
   "file_extension": ".py",
   "mimetype": "text/x-python",
   "name": "python",
   "nbconvert_exporter": "python",
   "pygments_lexer": "ipython3",
   "version": "3.6.6"
  }
 },
 "nbformat": 4,
 "nbformat_minor": 2
}
