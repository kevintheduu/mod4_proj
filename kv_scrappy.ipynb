{
 "cells": [
  {
   "cell_type": "code",
   "execution_count": 15,
   "metadata": {},
   "outputs": [],
   "source": [
    "# Load secret keys from credentials.json\n",
    "import json\n",
    "import praw\n",
    "url = 'https://www.reddit.com/'\n",
    "with open('/Users/krex/.secret/reddit_api.json') as f:\n",
    "   params = json.load(f)"
   ]
  },
  {
   "cell_type": "code",
   "execution_count": 16,
   "metadata": {},
   "outputs": [],
   "source": [
    "reddit = praw.Reddit(client_id=params['client_id'],\n",
    "                    client_secret=params['api_key'],\n",
    "                    password=params['password'],\n",
    "                    user_agent='explore_json accessAPI:v0.0.1 (by /u/patfullah)',\n",
    "                    username=params['username'])"
   ]
  },
  {
   "cell_type": "code",
   "execution_count": 18,
   "metadata": {
    "scrolled": true
   },
   "outputs": [
    {
     "name": "stdout",
     "output_type": "stream",
     "text": [
      "worldnews\n",
      "World News\n",
      ">>> - **Other Subs:**\n",
      "\n",
      ">>> - [Related](http://goo.gl/ztbbza)\n",
      ">>>     - /r/News\n",
      ">>>     - /r/PoliticalDiscussion\n",
      ">>>     - /r/WorldEvents\n",
      ">>>     - /r/GeoPolitics\n",
      ">>>     - /r/GlobalTalk \n",
      ">>>     - /r/Business\n",
      ">>>     - /r/Economics\n",
      ">>>     - /r/Environment\n",
      ">>>     - /r/History\n",
      ">>>     - /r/HumanRights\n",
      ">>>     - /r/Features\n",
      ">>>     - /r/UpliftingNews\n",
      ">>>     - /r/NewsOfTheWeird\n",
      ">>>     - /r/FakeNews\n",
      ">>>     - /r/ID_News \n",
      "\n",
      ">>> - [N. America](https://goo.gl/dkfVnB)\n",
      ">>>     - /r/Politics\n",
      ">>>     - /r/USA\n",
      ">>>     - /r/USANews\n",
      ">>>     - /r/Canada\n",
      ">>>     - /r/CanadaPolitics\n",
      ">>>     - /r/OnGuardForThee\n",
      ">>>     - /r/Cuba\n",
      ">>>     - /r/Mexico\n",
      ">>>     - /r/PuertoRico\n",
      "\n",
      ">>> - [S. America](https://goo.gl/DDaqmY)\n",
      ">>>     - /r/Argentina\n",
      ">>>     - /r/Brasil\n",
      ">>>     - /r/Chile\n",
      ">>>     - /r/Colombia\n",
      ">>>     - /r/Ecuador\n",
      ">>>     - /r/Guyana\n",
      ">>>     - /r/Nicaragua\n",
      ">>>     - [/r/Venezuela](/r/vzla)\n",
      "\n",
      ">>> - [Europe](https://goo.gl/ZF5rou)\n",
      ">>>     - /r/Armenia\n",
      ">>>     - /r/Azerbaijan\n",
      ">>>     - /r/Belgium\n",
      ">>>     - [/r/Bosnia](/r/BiH)\n",
      ">>>     - /r/Bulgaria\n",
      ">>>     - /r/Croatia\n",
      ">>>     - /r/Denmark\n",
      ">>>     - /r/Europe\n",
      ">>>     - /r/France\n",
      ">>>     - [/r/Georgia](/r/sakartvelo)\n",
      ">>>     - /r/Germany\n",
      ">>>     - /r/Greece\n",
      ">>>     - /r/Hungary\n",
      ">>>     - /r/Ireland\n",
      ">>>     - /r/Italy\n",
      ">>>     - /r/Moldova\n",
      ">>>     - /r/TheNetherlands\n",
      ">>>     - /r/Poland\n",
      ">>>     - /r/Polska\n",
      ">>>     - /r/Portugal\n",
      ">>>     - /r/Romania\n",
      ">>>     - /r/Russia\n",
      ">>>     - /r/Scotland\n",
      ">>>     - /r/Serbia\n",
      ">>>     - /r/Spain\n",
      ">>>     - /r/Sweden\n",
      ">>>     - /r/Switzerland\n",
      ">>>     - /r/Turkey\n",
      ">>>     - /r/UnitedKingdom\n",
      ">>>     - /r/UKPolitics\n",
      ">>>     - /r/Ukraina\n",
      ">>>     - /r/Ukraine\n",
      ">>>     - /r/UkrainianConflict\n",
      "\n",
      ">>> - [Asia](https://goo.gl/az3Ygk)\n",
      ">>>     - /r/Afghanistan\n",
      ">>>     - /r/Bangladesh\n",
      ">>>     - /r/China\n",
      ">>>     - /r/India\n",
      ">>>     - /r/Malaysia\n",
      ">>>     - /r/NorthKoreaNews\n",
      ">>>     - /r/Pakistan\n",
      ">>>     - /r/Philippines\n",
      ">>>     - /r/Singapore\n",
      ">>>     - /r/Sino\n",
      ">>>     - /r/Thailand\n",
      ">>>     - /r/Turkey\n",
      "\n",
      ">>> - [Middle East](https://goo.gl/Ut3syV)\n",
      ">>>     - /r/Assyria\n",
      ">>>     - /r/Iran\n",
      ">>>     - /r/Iranian\n",
      ">>>     - /r/Iraq\n",
      ">>>     - /r/Israel\n",
      ">>>     - /r/Kurdistan\n",
      ">>>     - /r/LevantineWar\n",
      ">>>     - /r/MiddleEastNews\n",
      ">>>     - /r/MideastPeace\n",
      ">>>     - /r/Palestine\n",
      ">>>     - /r/Syria\n",
      ">>>     - /r/Yemen\n",
      ">>>     - /r/YemeniCrisis\n",
      "\n",
      ">>> - [Africa](https://goo.gl/FgJ4Na)\n",
      ">>>     - /r/Africa\n",
      ">>>     - /r/SouthAfrica\n",
      "\n",
      ">>> - [Oceania](https://goo.gl/5pz9uS)\n",
      ">>>     - /r/Australia\n",
      ">>>     - /r/Fijian\n",
      ">>>     - /r/NewZealand\n",
      ">>>     - /r/Oceania\n",
      ">>>     - /r/Westpapua\n",
      "\n",
      "## **Filter out dominant topics:**\n",
      "\n",
      "[Display Trump submissions](http://www.reddit.com/r/worldnews#nt)\n",
      "\n",
      "[Filter Trump](http://nt.reddit.com/r/worldnews#www)\n",
      "\n",
      "[Display Russia submissions](http://www.reddit.com/r/worldnews#nr)\n",
      "\n",
      "[Filter Russia](http://nr.reddit.com/r/worldnews#www)\n",
      "\n",
      "[Display North Korea submissions](http://www.reddit.com/r/worldnews#nk)\n",
      "\n",
      "[Filter North Korea](http://nk.reddit.com/r/worldnews#www)\n",
      "\n",
      "[Display Israel/Palestine submissions](http://www.reddit.com/r/worldnews#ni)\n",
      "\n",
      "[Filter Israel / Palestine](http://ni.reddit.com/r/worldnews#www)\n",
      "\n",
      "[Display all submissions](http://www.reddit.com/r/worldnews#iu)\n",
      "\n",
      "[Filter all dominant topics](http://iu.reddit.com/r/worldnews#www)\n",
      "\n",
      "#### [](#h4-green)\n",
      "># Welcome!\n",
      ">\n",
      "> /r/worldnews is for major news from around the world except US-internal news / US politics\n",
      "\n",
      "> [Follow us on Twitter](https://twitter.com/redditworldnews)\n",
      "\n",
      "> [See all of our AMA events here] (http://www.reddit.com/r/worldnews/wiki/ama)\n",
      "\n",
      "###### [](#h6-red)\n",
      ">#Worldnews Rules\n",
      ">\n",
      ">\n",
      ">### **Disallowed submissions**\n",
      ">\n",
      "> * US internal news/US politics\n",
      "> * Editorialized titles\n",
      "> * Misleading titles\n",
      "> * Editorials, opinion, analysis\n",
      "> * Feature stories\n",
      "> * Non-English articles\n",
      "> * Images, videos or audio clips\n",
      "> * Petitions, advocacy, surveys\n",
      "> * All caps words in titles\n",
      "> * Blogspam (if stolen content/direct copy)\n",
      "> * Twitter, Facebook, Tumblr\n",
      "> * Old news (≥1 week old) articles\n",
      "\n",
      ">[See the wiki](/r/worldnews/wiki/rules#wiki_disallowed_submissions) for details on each rule\n",
      "\n",
      ">### **Disallowed comments**\n",
      ">\n",
      "> * Bigotry / Other offensive content\n",
      "> * Personal attacks on other users\n",
      "> * Memes/GIFs\n",
      "> * Unlabeled NSFW images/videos\n",
      "> * URL shorteners\n",
      "\n",
      ">[See the wiki](/r/worldnews/wiki/rules#wiki_disallowed_comments) for details on each rule\n",
      "\n",
      "> **Continued or outstandingly blatant violation** of the submission or commenting rules will result in you being temporarily **banned** from the subreddit without a warning.\n",
      "\n",
      ">\n",
      ">----\n",
      ">\n",
      ">**Please don't ever feed the trolls.**    \n",
      ">Downvote, report and move on.\n",
      ">\n",
      ">----\n",
      ">\n",
      ">* [**What moderators do and can't do**](/r/worldnews/wiki/whatmodsdo)\n",
      ">* [**Message the moderators**](http://www.reddit.com/message/compose?to=%2Fr%2Fworldnews)\n",
      "\n",
      "#### [](#h4-green)\n",
      "># Sticky Posts\n",
      "\n",
      "> • [A list of all recent stickied posts.](/r/worldnews/search?q=author%3AWorldNewsMods&sort=new&restrict_sr=on&t=all)\n"
     ]
    }
   ],
   "source": [
    "worldnews = reddit.subreddit('worldnews')\n",
    "print(subreddit.display_name)  # Output: iama\n",
    "print(subreddit.title)         # Output:I Am A, where the mundane...\n",
    "print(subreddit.description)"
   ]
  },
  {
   "cell_type": "code",
   "execution_count": null,
   "metadata": {},
   "outputs": [],
   "source": [
    "\n",
    "\n",
    "\n"
   ]
  },
  {
   "cell_type": "code",
   "execution_count": 13,
   "metadata": {},
   "outputs": [],
   "source": [
    "import requests\n",
    "import json\n",
    "import random\n",
    "import time\n",
    "from selenium.webdriver import Chrome\n",
    "from selenium.webdriver.common.action_chains import ActionChains\n"
   ]
  },
  {
   "cell_type": "code",
   "execution_count": 41,
   "metadata": {},
   "outputs": [],
   "source": [
    "browser = Chrome()\n",
    "url = 'https://web.archive.org/web/20190617005258/https://old.reddit.com/r/worldnews/'\n",
    "browser.get(url)\n",
    "#old reddit api page is a lot faster"
   ]
  },
  {
   "cell_type": "code",
   "execution_count": 19,
   "metadata": {},
   "outputs": [],
   "source": [
    "var = browser.find_element_by_css_selector('#thing_t3_c1e82d > div.midcol.unvoted > div.score.unvoted')"
   ]
  },
  {
   "cell_type": "code",
   "execution_count": 24,
   "metadata": {},
   "outputs": [
    {
     "data": {
      "text/plain": [
       "'48936'"
      ]
     },
     "execution_count": 24,
     "metadata": {},
     "output_type": "execute_result"
    }
   ],
   "source": [
    "var.get_attribute('title') #gets the score of the post\n"
   ]
  },
  {
   "cell_type": "code",
   "execution_count": 25,
   "metadata": {},
   "outputs": [],
   "source": [
    "var2 = browser.find_element_by_css_selector('#thing_t3_c1e82d > div.entry.unvoted > div > p.title > a')"
   ]
  },
  {
   "cell_type": "code",
   "execution_count": 26,
   "metadata": {},
   "outputs": [
    {
     "data": {
      "text/plain": [
       "'Porn Sites in Hong Kong Shut Down to Encourage People to Protest'"
      ]
     },
     "execution_count": 26,
     "metadata": {},
     "output_type": "execute_result"
    }
   ],
   "source": [
    "var2.text #grabs the title of the post"
   ]
  },
  {
   "cell_type": "code",
   "execution_count": 27,
   "metadata": {},
   "outputs": [],
   "source": [
    "var3 = browser.find_element_by_css_selector('#thing_t3_c1e82d > div.entry.unvoted > div > p.tagline > time')"
   ]
  },
  {
   "cell_type": "code",
   "execution_count": 38,
   "metadata": {},
   "outputs": [
    {
     "data": {
      "text/plain": [
       "'4 hours ago'"
      ]
     },
     "execution_count": 38,
     "metadata": {},
     "output_type": "execute_result"
    }
   ],
   "source": [
    "var3.text #grabs the time since posted (could be in hours or days)"
   ]
  },
  {
   "cell_type": "code",
   "execution_count": 39,
   "metadata": {},
   "outputs": [],
   "source": [
    "var4 = browser.find_element_by_css_selector('#thing_t3_c1e82d > div.entry.unvoted > div > ul > li.first > a')"
   ]
  },
  {
   "cell_type": "code",
   "execution_count": 40,
   "metadata": {},
   "outputs": [
    {
     "data": {
      "text/plain": [
       "'1359 comments'"
      ]
     },
     "execution_count": 40,
     "metadata": {},
     "output_type": "execute_result"
    }
   ],
   "source": [
    "var4.text #grabs the number of comments"
   ]
  },
  {
   "cell_type": "code",
   "execution_count": 42,
   "metadata": {},
   "outputs": [],
   "source": [
    "# this is the score of the first article on the previous day\n",
    "#thing_t3_c0zkd2 > div.midcol.unvoted > div.score.unvoted\n",
    "\n",
    "\n",
    "#thing_t3_c1e82d > div.midcol.unvoted > div.score.unvoted #this is the first story on the \n",
    "\n"
   ]
  },
  {
   "cell_type": "code",
   "execution_count": 147,
   "metadata": {
    "scrolled": true
   },
   "outputs": [
    {
     "name": "stdout",
     "output_type": "stream",
     "text": [
      "0 48936\n",
      "1 25546\n",
      "2 8674\n",
      "3 19052\n",
      "4 40652\n",
      "5 2685\n",
      "6 3797\n",
      "7 1990\n",
      "8 1588\n",
      "9 958\n",
      "10 638\n",
      "11 1911\n",
      "12 40107\n",
      "13 2615\n",
      "14 316\n",
      "15 824\n",
      "16 120\n",
      "17 158\n",
      "18 883\n",
      "19 556\n",
      "20 349\n",
      "21 321\n",
      "22 166\n",
      "23 478\n",
      "24 98\n"
     ]
    }
   ],
   "source": [
    "votes = browser.find_elements_by_css_selector('div.midcol.unvoted > div.score.unvoted')[1:]\n",
    "\n",
    "len(votes)\n",
    "\n",
    "for i, vote in enumerate(votes):\n",
    "    print(i,vote.get_attribute('title'))"
   ]
  },
  {
   "cell_type": "code",
   "execution_count": 136,
   "metadata": {
    "scrolled": true
   },
   "outputs": [
    {
     "name": "stdout",
     "output_type": "stream",
     "text": [
      "0 1359 comments\n",
      "1 1183 comments\n",
      "2 514 comments\n",
      "3 1876 comments\n",
      "4 1668 comments\n",
      "5 163 comments\n",
      "6 181 comments\n",
      "7 583 comments\n",
      "8 70 comments\n",
      "9 140 comments\n",
      "10 52 comments\n",
      "11 262 comments\n",
      "12 3790 comments\n",
      "13 130 comments\n",
      "14 29 comments\n",
      "15 47 comments\n",
      "16 25 comments\n",
      "17 68 comments\n",
      "18 67 comments\n",
      "19 74 comments\n",
      "20 8 comments\n",
      "21 102 comments\n",
      "22 36 comments\n",
      "23 53 comments\n",
      "24 46 comments\n"
     ]
    }
   ],
   "source": [
    "comments = browser.find_elements_by_css_selector('li.first > a')\n",
    "\n",
    "for i, comment in enumerate(comments):\n",
    "    print(i,comment.text)"
   ]
  },
  {
   "cell_type": "code",
   "execution_count": 135,
   "metadata": {},
   "outputs": [
    {
     "data": {
      "text/plain": [
       "list"
      ]
     },
     "execution_count": 135,
     "metadata": {},
     "output_type": "execute_result"
    }
   ],
   "source": [
    "type(comments)"
   ]
  },
  {
   "cell_type": "code",
   "execution_count": 132,
   "metadata": {
    "scrolled": true
   },
   "outputs": [
    {
     "name": "stdout",
     "output_type": "stream",
     "text": [
      "0 4 hours ago\n",
      "1 13 hours ago\n",
      "2 12 hours ago\n",
      "3 15 hours ago\n",
      "4 16 hours ago\n",
      "5 11 hours ago\n",
      "6 13 hours ago\n",
      "7 10 hours ago\n",
      "8 10 hours ago\n",
      "9 8 hours ago\n",
      "10 7 hours ago\n",
      "11 14 hours ago\n",
      "12 22 hours ago\n",
      "13 17 hours ago\n",
      "14 5 hours ago\n",
      "15 12 hours ago\n",
      "16 2 hours ago\n",
      "17 4 hours ago\n",
      "18 14 hours ago\n",
      "19 11 hours ago\n",
      "20 9 hours ago\n",
      "21 9 hours ago\n",
      "22 6 hours ago\n",
      "23 12 hours ago\n",
      "24 4 hours ago\n"
     ]
    }
   ],
   "source": [
    "times  = browser.find_elements_by_css_selector('time')[1:]\n",
    "for i,time in enumerate(times):\n",
    "    print(i,time.text)"
   ]
  },
  {
   "cell_type": "code",
   "execution_count": 133,
   "metadata": {
    "scrolled": true
   },
   "outputs": [
    {
     "name": "stdout",
     "output_type": "stream",
     "text": [
      "0 Porn Sites in Hong Kong Shut Down to Encourage People to Protest\n",
      "1 Massive power cut hits all of Argentina and Uruguay - 50 million people without electricity\n",
      "2 The UK has now committed to the most aggressive climate target in the world: The country also went two whole weeks without burning coal for electricity.\n",
      "3 Japan demands more proof from U.S. that Iran attacked tankers\n",
      "4 Hongkongers march in their thousands against extradition bill again, calling for leader to resign\n",
      "5 Hong Kong protesters coordinate tech-savvy effort to beat Chinese state surveillance\n",
      "6 Boris Johnson failed to protect biodiversity hotspot, says UN expert - “Unfortunately, I wasn’t able to get Boris to protect Georgia and the Sandwich Islands. Just one signature and he could have created a protected area over a million square kilometres, but he didn’t do it,” he said.\n",
      "7 Many fliers say they will avoid Boeing’s 737 Max even if it’s cleared to fly\n",
      "8 Nearly 43% of the new members of the India's lower house of Parliament won despite facing criminal charges. More than a quarter of those relate to rape, murder or attempted murder, according to a report by the civic group Association of Democratic Reforms\n",
      "9 Boeing CEO concedes 'mistake' with planes in 2 fatal crashes\n",
      "10 No dumping ground’: Indonesia sends back loads of plastic mislabelled as ‘paper’ to us\n",
      "11 Donald Trump refuses to criticize Russia during joint press conference with Poland's leader\n",
      "12 Germany joins chorus casting doubt on Trump administration claim that Iran was behind attack on oil tankers\n",
      "13 In Hong Kong protests against extradition bill to China, the admin of a Telegram group with 30,000 members was arrested. Telegram is used by many protesters to communicate during protests.\n",
      "14 EU says Russia conducted 'sustained' election interference campaign\n",
      "15 Hong Kong: Dead Anti-Extradition Protester Hailed as Martyr\n",
      "16 100 Ugandan Babies Dead - NGO Wants U.S. Missionary Prosecuted For Practicing Medicine Without Any Qualifications\n",
      "17 Kremlin compares US attacks on Iran to fake ‘white powder evidence’ against Iraq in 2003\n",
      "18 Benjamin Netanyahu's wife Sara admits misusing public funds - The wife of the Israeli Prime Minister Benjamin Netanyahu has admitted to misuse of state funds and will have to pay $15,000 (£11,910). She will have a criminal record, the Jerusalem Post reported.\n",
      "19 Germany exports weapons to Saudi-led alliance in 2019 - The German government has given the green light for arms shipments worth over €1 billion so far this year to the Saudi-led coalition fighting in Yemen. The approval comes despite export restrictions being in place.\n",
      "20 \n",
      "21 Germany: U.S video not enough to attribute blame over oil tanker attacks\n",
      "22 Boeing CEO concedes 'mistake' with planes in 2 fatal crashes; The US Federal Aviation Administration has faulted Boeing for not telling regulators for more than year that a safety indicator in the Max cockpit didn't work\n",
      "23 'Doomsday predictions can no longer be met with disdain': Pope Francis calls carbon pricing 'essential'\n",
      "24 Saudi Arabia May Execute Teenager for His Protests — Including When He Was 10\n"
     ]
    }
   ],
   "source": [
    "headlines = browser.find_elements_by_css_selector('p.title > a')[1:]\n",
    "\n",
    "for i, headline in enumerate(headlines):\n",
    "    print(i,headline.text)"
   ]
  },
  {
   "cell_type": "code",
   "execution_count": 153,
   "metadata": {},
   "outputs": [],
   "source": [
    "reddit_day = {}\n",
    "reddit_day['headline']= [headline.text for headline in headlines]\n",
    "reddit_day['vote'] = [vote.get_attribute('title') for vote in votes]\n",
    "reddit_day['comments'] = [comment.text for comment in comments]\n",
    "reddit_day['age'] = [time.text for time in times] "
   ]
  },
  {
   "cell_type": "code",
   "execution_count": 154,
   "metadata": {},
   "outputs": [
    {
     "data": {
      "text/plain": [
       "dict_keys(['headline', 'vote', 'comments', 'age'])"
      ]
     },
     "execution_count": 154,
     "metadata": {},
     "output_type": "execute_result"
    }
   ],
   "source": [
    "reddit_day.keys()"
   ]
  },
  {
   "cell_type": "code",
   "execution_count": 155,
   "metadata": {},
   "outputs": [
    {
     "data": {
      "text/plain": [
       "{'headline': ['Porn Sites in Hong Kong Shut Down to Encourage People to Protest',\n",
       "  'Massive power cut hits all of Argentina and Uruguay - 50 million people without electricity',\n",
       "  'The UK has now committed to the most aggressive climate target in the world: The country also went two whole weeks without burning coal for electricity.',\n",
       "  'Japan demands more proof from U.S. that Iran attacked tankers',\n",
       "  'Hongkongers march in their thousands against extradition bill again, calling for leader to resign',\n",
       "  'Hong Kong protesters coordinate tech-savvy effort to beat Chinese state surveillance',\n",
       "  'Boris Johnson failed to protect biodiversity hotspot, says UN expert - “Unfortunately, I wasn’t able to get Boris to protect Georgia and the Sandwich Islands. Just one signature and he could have created a protected area over a million square kilometres, but he didn’t do it,” he said.',\n",
       "  'Many fliers say they will avoid Boeing’s 737 Max even if it’s cleared to fly',\n",
       "  \"Nearly 43% of the new members of the India's lower house of Parliament won despite facing criminal charges. More than a quarter of those relate to rape, murder or attempted murder, according to a report by the civic group Association of Democratic Reforms\",\n",
       "  \"Boeing CEO concedes 'mistake' with planes in 2 fatal crashes\",\n",
       "  'No dumping ground’: Indonesia sends back loads of plastic mislabelled as ‘paper’ to us',\n",
       "  \"Donald Trump refuses to criticize Russia during joint press conference with Poland's leader\",\n",
       "  'Germany joins chorus casting doubt on Trump administration claim that Iran was behind attack on oil tankers',\n",
       "  'In Hong Kong protests against extradition bill to China, the admin of a Telegram group with 30,000 members was arrested. Telegram is used by many protesters to communicate during protests.',\n",
       "  \"EU says Russia conducted 'sustained' election interference campaign\",\n",
       "  'Hong Kong: Dead Anti-Extradition Protester Hailed as Martyr',\n",
       "  '100 Ugandan Babies Dead - NGO Wants U.S. Missionary Prosecuted For Practicing Medicine Without Any Qualifications',\n",
       "  'Kremlin compares US attacks on Iran to fake ‘white powder evidence’ against Iraq in 2003',\n",
       "  \"Benjamin Netanyahu's wife Sara admits misusing public funds - The wife of the Israeli Prime Minister Benjamin Netanyahu has admitted to misuse of state funds and will have to pay $15,000 (£11,910). She will have a criminal record, the Jerusalem Post reported.\",\n",
       "  'Germany exports weapons to Saudi-led alliance in 2019 - The German government has given the green light for arms shipments worth over €1 billion so far this year to the Saudi-led coalition fighting in Yemen. The approval comes despite export restrictions being in place.',\n",
       "  '',\n",
       "  'Germany: U.S video not enough to attribute blame over oil tanker attacks',\n",
       "  \"Boeing CEO concedes 'mistake' with planes in 2 fatal crashes; The US Federal Aviation Administration has faulted Boeing for not telling regulators for more than year that a safety indicator in the Max cockpit didn't work\",\n",
       "  \"'Doomsday predictions can no longer be met with disdain': Pope Francis calls carbon pricing 'essential'\",\n",
       "  'Saudi Arabia May Execute Teenager for His Protests — Including When He Was 10'],\n",
       " 'vote': ['48936',\n",
       "  '25546',\n",
       "  '8674',\n",
       "  '19052',\n",
       "  '40652',\n",
       "  '2685',\n",
       "  '3797',\n",
       "  '1990',\n",
       "  '1588',\n",
       "  '958',\n",
       "  '638',\n",
       "  '1911',\n",
       "  '40107',\n",
       "  '2615',\n",
       "  '316',\n",
       "  '824',\n",
       "  '120',\n",
       "  '158',\n",
       "  '883',\n",
       "  '556',\n",
       "  '349',\n",
       "  '321',\n",
       "  '166',\n",
       "  '478',\n",
       "  '98'],\n",
       " 'comments': ['1359 comments',\n",
       "  '1183 comments',\n",
       "  '514 comments',\n",
       "  '1876 comments',\n",
       "  '1668 comments',\n",
       "  '163 comments',\n",
       "  '181 comments',\n",
       "  '583 comments',\n",
       "  '70 comments',\n",
       "  '140 comments',\n",
       "  '52 comments',\n",
       "  '262 comments',\n",
       "  '3790 comments',\n",
       "  '130 comments',\n",
       "  '29 comments',\n",
       "  '47 comments',\n",
       "  '25 comments',\n",
       "  '68 comments',\n",
       "  '67 comments',\n",
       "  '74 comments',\n",
       "  '8 comments',\n",
       "  '102 comments',\n",
       "  '36 comments',\n",
       "  '53 comments',\n",
       "  '46 comments'],\n",
       " 'age': ['4 hours ago',\n",
       "  '13 hours ago',\n",
       "  '12 hours ago',\n",
       "  '15 hours ago',\n",
       "  '16 hours ago',\n",
       "  '11 hours ago',\n",
       "  '13 hours ago',\n",
       "  '10 hours ago',\n",
       "  '10 hours ago',\n",
       "  '8 hours ago',\n",
       "  '7 hours ago',\n",
       "  '14 hours ago',\n",
       "  '22 hours ago',\n",
       "  '17 hours ago',\n",
       "  '5 hours ago',\n",
       "  '12 hours ago',\n",
       "  '2 hours ago',\n",
       "  '4 hours ago',\n",
       "  '14 hours ago',\n",
       "  '11 hours ago',\n",
       "  '9 hours ago',\n",
       "  '9 hours ago',\n",
       "  '6 hours ago',\n",
       "  '12 hours ago',\n",
       "  '4 hours ago']}"
      ]
     },
     "execution_count": 155,
     "metadata": {},
     "output_type": "execute_result"
    }
   ],
   "source": [
    "reddit_day"
   ]
  },
  {
   "cell_type": "code",
   "execution_count": 151,
   "metadata": {},
   "outputs": [],
   "source": [
    "import pandas as pd"
   ]
  },
  {
   "cell_type": "code",
   "execution_count": 157,
   "metadata": {},
   "outputs": [
    {
     "data": {
      "text/html": [
       "<div>\n",
       "<style scoped>\n",
       "    .dataframe tbody tr th:only-of-type {\n",
       "        vertical-align: middle;\n",
       "    }\n",
       "\n",
       "    .dataframe tbody tr th {\n",
       "        vertical-align: top;\n",
       "    }\n",
       "\n",
       "    .dataframe thead th {\n",
       "        text-align: right;\n",
       "    }\n",
       "</style>\n",
       "<table border=\"1\" class=\"dataframe\">\n",
       "  <thead>\n",
       "    <tr style=\"text-align: right;\">\n",
       "      <th></th>\n",
       "      <th>headline</th>\n",
       "      <th>vote</th>\n",
       "      <th>comments</th>\n",
       "      <th>age</th>\n",
       "    </tr>\n",
       "  </thead>\n",
       "  <tbody>\n",
       "    <tr>\n",
       "      <th>0</th>\n",
       "      <td>Porn Sites in Hong Kong Shut Down to Encourage...</td>\n",
       "      <td>48936</td>\n",
       "      <td>1359 comments</td>\n",
       "      <td>4 hours ago</td>\n",
       "    </tr>\n",
       "    <tr>\n",
       "      <th>1</th>\n",
       "      <td>Massive power cut hits all of Argentina and Ur...</td>\n",
       "      <td>25546</td>\n",
       "      <td>1183 comments</td>\n",
       "      <td>13 hours ago</td>\n",
       "    </tr>\n",
       "    <tr>\n",
       "      <th>2</th>\n",
       "      <td>The UK has now committed to the most aggressiv...</td>\n",
       "      <td>8674</td>\n",
       "      <td>514 comments</td>\n",
       "      <td>12 hours ago</td>\n",
       "    </tr>\n",
       "    <tr>\n",
       "      <th>3</th>\n",
       "      <td>Japan demands more proof from U.S. that Iran a...</td>\n",
       "      <td>19052</td>\n",
       "      <td>1876 comments</td>\n",
       "      <td>15 hours ago</td>\n",
       "    </tr>\n",
       "    <tr>\n",
       "      <th>4</th>\n",
       "      <td>Hongkongers march in their thousands against e...</td>\n",
       "      <td>40652</td>\n",
       "      <td>1668 comments</td>\n",
       "      <td>16 hours ago</td>\n",
       "    </tr>\n",
       "    <tr>\n",
       "      <th>5</th>\n",
       "      <td>Hong Kong protesters coordinate tech-savvy eff...</td>\n",
       "      <td>2685</td>\n",
       "      <td>163 comments</td>\n",
       "      <td>11 hours ago</td>\n",
       "    </tr>\n",
       "    <tr>\n",
       "      <th>6</th>\n",
       "      <td>Boris Johnson failed to protect biodiversity h...</td>\n",
       "      <td>3797</td>\n",
       "      <td>181 comments</td>\n",
       "      <td>13 hours ago</td>\n",
       "    </tr>\n",
       "    <tr>\n",
       "      <th>7</th>\n",
       "      <td>Many fliers say they will avoid Boeing’s 737 M...</td>\n",
       "      <td>1990</td>\n",
       "      <td>583 comments</td>\n",
       "      <td>10 hours ago</td>\n",
       "    </tr>\n",
       "    <tr>\n",
       "      <th>8</th>\n",
       "      <td>Nearly 43% of the new members of the India's l...</td>\n",
       "      <td>1588</td>\n",
       "      <td>70 comments</td>\n",
       "      <td>10 hours ago</td>\n",
       "    </tr>\n",
       "    <tr>\n",
       "      <th>9</th>\n",
       "      <td>Boeing CEO concedes 'mistake' with planes in 2...</td>\n",
       "      <td>958</td>\n",
       "      <td>140 comments</td>\n",
       "      <td>8 hours ago</td>\n",
       "    </tr>\n",
       "    <tr>\n",
       "      <th>10</th>\n",
       "      <td>No dumping ground’: Indonesia sends back loads...</td>\n",
       "      <td>638</td>\n",
       "      <td>52 comments</td>\n",
       "      <td>7 hours ago</td>\n",
       "    </tr>\n",
       "    <tr>\n",
       "      <th>11</th>\n",
       "      <td>Donald Trump refuses to criticize Russia durin...</td>\n",
       "      <td>1911</td>\n",
       "      <td>262 comments</td>\n",
       "      <td>14 hours ago</td>\n",
       "    </tr>\n",
       "    <tr>\n",
       "      <th>12</th>\n",
       "      <td>Germany joins chorus casting doubt on Trump ad...</td>\n",
       "      <td>40107</td>\n",
       "      <td>3790 comments</td>\n",
       "      <td>22 hours ago</td>\n",
       "    </tr>\n",
       "    <tr>\n",
       "      <th>13</th>\n",
       "      <td>In Hong Kong protests against extradition bill...</td>\n",
       "      <td>2615</td>\n",
       "      <td>130 comments</td>\n",
       "      <td>17 hours ago</td>\n",
       "    </tr>\n",
       "    <tr>\n",
       "      <th>14</th>\n",
       "      <td>EU says Russia conducted 'sustained' election ...</td>\n",
       "      <td>316</td>\n",
       "      <td>29 comments</td>\n",
       "      <td>5 hours ago</td>\n",
       "    </tr>\n",
       "    <tr>\n",
       "      <th>15</th>\n",
       "      <td>Hong Kong: Dead Anti-Extradition Protester Hai...</td>\n",
       "      <td>824</td>\n",
       "      <td>47 comments</td>\n",
       "      <td>12 hours ago</td>\n",
       "    </tr>\n",
       "    <tr>\n",
       "      <th>16</th>\n",
       "      <td>100 Ugandan Babies Dead - NGO Wants U.S. Missi...</td>\n",
       "      <td>120</td>\n",
       "      <td>25 comments</td>\n",
       "      <td>2 hours ago</td>\n",
       "    </tr>\n",
       "    <tr>\n",
       "      <th>17</th>\n",
       "      <td>Kremlin compares US attacks on Iran to fake ‘w...</td>\n",
       "      <td>158</td>\n",
       "      <td>68 comments</td>\n",
       "      <td>4 hours ago</td>\n",
       "    </tr>\n",
       "    <tr>\n",
       "      <th>18</th>\n",
       "      <td>Benjamin Netanyahu's wife Sara admits misusing...</td>\n",
       "      <td>883</td>\n",
       "      <td>67 comments</td>\n",
       "      <td>14 hours ago</td>\n",
       "    </tr>\n",
       "    <tr>\n",
       "      <th>19</th>\n",
       "      <td>Germany exports weapons to Saudi-led alliance ...</td>\n",
       "      <td>556</td>\n",
       "      <td>74 comments</td>\n",
       "      <td>11 hours ago</td>\n",
       "    </tr>\n",
       "    <tr>\n",
       "      <th>20</th>\n",
       "      <td></td>\n",
       "      <td>349</td>\n",
       "      <td>8 comments</td>\n",
       "      <td>9 hours ago</td>\n",
       "    </tr>\n",
       "    <tr>\n",
       "      <th>21</th>\n",
       "      <td>Germany: U.S video not enough to attribute bla...</td>\n",
       "      <td>321</td>\n",
       "      <td>102 comments</td>\n",
       "      <td>9 hours ago</td>\n",
       "    </tr>\n",
       "    <tr>\n",
       "      <th>22</th>\n",
       "      <td>Boeing CEO concedes 'mistake' with planes in 2...</td>\n",
       "      <td>166</td>\n",
       "      <td>36 comments</td>\n",
       "      <td>6 hours ago</td>\n",
       "    </tr>\n",
       "    <tr>\n",
       "      <th>23</th>\n",
       "      <td>'Doomsday predictions can no longer be met wit...</td>\n",
       "      <td>478</td>\n",
       "      <td>53 comments</td>\n",
       "      <td>12 hours ago</td>\n",
       "    </tr>\n",
       "    <tr>\n",
       "      <th>24</th>\n",
       "      <td>Saudi Arabia May Execute Teenager for His Prot...</td>\n",
       "      <td>98</td>\n",
       "      <td>46 comments</td>\n",
       "      <td>4 hours ago</td>\n",
       "    </tr>\n",
       "  </tbody>\n",
       "</table>\n",
       "</div>"
      ],
      "text/plain": [
       "                                             headline   vote       comments  \\\n",
       "0   Porn Sites in Hong Kong Shut Down to Encourage...  48936  1359 comments   \n",
       "1   Massive power cut hits all of Argentina and Ur...  25546  1183 comments   \n",
       "2   The UK has now committed to the most aggressiv...   8674   514 comments   \n",
       "3   Japan demands more proof from U.S. that Iran a...  19052  1876 comments   \n",
       "4   Hongkongers march in their thousands against e...  40652  1668 comments   \n",
       "5   Hong Kong protesters coordinate tech-savvy eff...   2685   163 comments   \n",
       "6   Boris Johnson failed to protect biodiversity h...   3797   181 comments   \n",
       "7   Many fliers say they will avoid Boeing’s 737 M...   1990   583 comments   \n",
       "8   Nearly 43% of the new members of the India's l...   1588    70 comments   \n",
       "9   Boeing CEO concedes 'mistake' with planes in 2...    958   140 comments   \n",
       "10  No dumping ground’: Indonesia sends back loads...    638    52 comments   \n",
       "11  Donald Trump refuses to criticize Russia durin...   1911   262 comments   \n",
       "12  Germany joins chorus casting doubt on Trump ad...  40107  3790 comments   \n",
       "13  In Hong Kong protests against extradition bill...   2615   130 comments   \n",
       "14  EU says Russia conducted 'sustained' election ...    316    29 comments   \n",
       "15  Hong Kong: Dead Anti-Extradition Protester Hai...    824    47 comments   \n",
       "16  100 Ugandan Babies Dead - NGO Wants U.S. Missi...    120    25 comments   \n",
       "17  Kremlin compares US attacks on Iran to fake ‘w...    158    68 comments   \n",
       "18  Benjamin Netanyahu's wife Sara admits misusing...    883    67 comments   \n",
       "19  Germany exports weapons to Saudi-led alliance ...    556    74 comments   \n",
       "20                                                       349     8 comments   \n",
       "21  Germany: U.S video not enough to attribute bla...    321   102 comments   \n",
       "22  Boeing CEO concedes 'mistake' with planes in 2...    166    36 comments   \n",
       "23  'Doomsday predictions can no longer be met wit...    478    53 comments   \n",
       "24  Saudi Arabia May Execute Teenager for His Prot...     98    46 comments   \n",
       "\n",
       "             age  \n",
       "0    4 hours ago  \n",
       "1   13 hours ago  \n",
       "2   12 hours ago  \n",
       "3   15 hours ago  \n",
       "4   16 hours ago  \n",
       "5   11 hours ago  \n",
       "6   13 hours ago  \n",
       "7   10 hours ago  \n",
       "8   10 hours ago  \n",
       "9    8 hours ago  \n",
       "10   7 hours ago  \n",
       "11  14 hours ago  \n",
       "12  22 hours ago  \n",
       "13  17 hours ago  \n",
       "14   5 hours ago  \n",
       "15  12 hours ago  \n",
       "16   2 hours ago  \n",
       "17   4 hours ago  \n",
       "18  14 hours ago  \n",
       "19  11 hours ago  \n",
       "20   9 hours ago  \n",
       "21   9 hours ago  \n",
       "22   6 hours ago  \n",
       "23  12 hours ago  \n",
       "24   4 hours ago  "
      ]
     },
     "execution_count": 157,
     "metadata": {},
     "output_type": "execute_result"
    }
   ],
   "source": [
    "pd.DataFrame(reddit_day) \n",
    "# Looking at this, there are some links that are behind paywalls,\n",
    "#and titles are thus hidden\n",
    "#we can compute how many are truly missing later to determine if we need to scrape some more!\n"
   ]
  },
  {
   "cell_type": "code",
   "execution_count": 159,
   "metadata": {},
   "outputs": [],
   "source": [
    "with open('reddit_test_0','w') as f:\n",
    "    json.dump(reddit_day,fp=f)"
   ]
  },
  {
   "cell_type": "code",
   "execution_count": 160,
   "metadata": {},
   "outputs": [
    {
     "name": "stdout",
     "output_type": "stream",
     "text": [
      "README.md        kv_scrappy.ipynb reddit_test_0\r\n"
     ]
    }
   ],
   "source": [
    "!ls"
   ]
  },
  {
   "cell_type": "code",
   "execution_count": 161,
   "metadata": {},
   "outputs": [
    {
     "name": "stdout",
     "output_type": "stream",
     "text": [
      "{\"headline\": [\"Porn Sites in Hong Kong Shut Down to Encourage People to Protest\", \"Massive power cut hits all of Argentina and Uruguay - 50 million people without electricity\", \"The UK has now committed to the most aggressive climate target in the world: The country also went two whole weeks without burning coal for electricity.\", \"Japan demands more proof from U.S. that Iran attacked tankers\", \"Hongkongers march in their thousands against extradition bill again, calling for leader to resign\", \"Hong Kong protesters coordinate tech-savvy effort to beat Chinese state surveillance\", \"Boris Johnson failed to protect biodiversity hotspot, says UN expert - \\u201cUnfortunately, I wasn\\u2019t able to get Boris to protect Georgia and the Sandwich Islands. Just one signature and he could have created a protected area over a million square kilometres, but he didn\\u2019t do it,\\u201d he said.\", \"Many fliers say they will avoid Boeing\\u2019s 737 Max even if it\\u2019s cleared to fly\", \"Nearly 43% of the new members of the India's lower house of Parliament won despite facing criminal charges. More than a quarter of those relate to rape, murder or attempted murder, according to a report by the civic group Association of Democratic Reforms\", \"Boeing CEO concedes 'mistake' with planes in 2 fatal crashes\", \"No dumping ground\\u2019: Indonesia sends back loads of plastic mislabelled as \\u2018paper\\u2019 to us\", \"Donald Trump refuses to criticize Russia during joint press conference with Poland's leader\", \"Germany joins chorus casting doubt on Trump administration claim that Iran was behind attack on oil tankers\", \"In Hong Kong protests against extradition bill to China, the admin of a Telegram group with 30,000 members was arrested. Telegram is used by many protesters to communicate during protests.\", \"EU says Russia conducted 'sustained' election interference campaign\", \"Hong Kong: Dead Anti-Extradition Protester Hailed as Martyr\", \"100 Ugandan Babies Dead - NGO Wants U.S. Missionary Prosecuted For Practicing Medicine Without Any Qualifications\", \"Kremlin compares US attacks on Iran to fake \\u2018white powder evidence\\u2019 against Iraq in 2003\", \"Benjamin Netanyahu's wife Sara admits misusing public funds - The wife of the Israeli Prime Minister Benjamin Netanyahu has admitted to misuse of state funds and will have to pay $15,000 (\\u00a311,910). She will have a criminal record, the Jerusalem Post reported.\", \"Germany exports weapons to Saudi-led alliance in 2019 - The German government has given the green light for arms shipments worth over \\u20ac1 billion so far this year to the Saudi-led coalition fighting in Yemen. The approval comes despite export restrictions being in place.\", \"\", \"Germany: U.S video not enough to attribute blame over oil tanker attacks\", \"Boeing CEO concedes 'mistake' with planes in 2 fatal crashes; The US Federal Aviation Administration has faulted Boeing for not telling regulators for more than year that a safety indicator in the Max cockpit didn't work\", \"'Doomsday predictions can no longer be met with disdain': Pope Francis calls carbon pricing 'essential'\", \"Saudi Arabia May Execute Teenager for His Protests \\u2014 Including When He Was 10\"], \"vote\": [\"48936\", \"25546\", \"8674\", \"19052\", \"40652\", \"2685\", \"3797\", \"1990\", \"1588\", \"958\", \"638\", \"1911\", \"40107\", \"2615\", \"316\", \"824\", \"120\", \"158\", \"883\", \"556\", \"349\", \"321\", \"166\", \"478\", \"98\"], \"comments\": [\"1359 comments\", \"1183 comments\", \"514 comments\", \"1876 comments\", \"1668 comments\", \"163 comments\", \"181 comments\", \"583 comments\", \"70 comments\", \"140 comments\", \"52 comments\", \"262 comments\", \"3790 comments\", \"130 comments\", \"29 comments\", \"47 comments\", \"25 comments\", \"68 comments\", \"67 comments\", \"74 comments\", \"8 comments\", \"102 comments\", \"36 comments\", \"53 comments\", \"46 comments\"], \"age\": [\"4 hours ago\", \"13 hours ago\", \"12 hours ago\", \"15 hours ago\", \"16 hours ago\", \"11 hours ago\", \"13 hours ago\", \"10 hours ago\", \"10 hours ago\", \"8 hours ago\", \"7 hours ago\", \"14 hours ago\", \"22 hours ago\", \"17 hours ago\", \"5 hours ago\", \"12 hours ago\", \"2 hours ago\", \"4 hours ago\", \"14 hours ago\", \"11 hours ago\", \"9 hours ago\", \"9 hours ago\", \"6 hours ago\", \"12 hours ago\", \"4 hours ago\"]}"
     ]
    }
   ],
   "source": [
    "!head reddit_test_0"
   ]
  },
  {
   "cell_type": "markdown",
   "metadata": {},
   "source": [
    "# SUCCESS WITH SCRAPING TO IMPROVE N of samples\n",
    "\n",
    "## but we need to do some feature extraction for time\n"
   ]
  },
  {
   "cell_type": "code",
   "execution_count": 184,
   "metadata": {},
   "outputs": [],
   "source": [
    "times  = browser.find_elements_by_css_selector('time')[1:]\n",
    "ages = [time.text for time in times]\n",
    "\n",
    "#for time in times:\n",
    "dummy = ages[0]\n",
    "\n",
    "dummy\n",
    "\n",
    "def extract_delta_t(text):\n",
    "    if 'hours' in text:\n",
    "        return -int(text[:2])\n",
    "    if 'day' in text:\n",
    "        return -int(24)\n",
    "\n",
    "stre = 'asdas12912 1212dsfsdf 90'\n",
    "\n",
    "stre.split(' ')[2]\n",
    "\n",
    "list(map(extract_delta_t, ages))"
   ]
  },
  {
   "cell_type": "code",
   "execution_count": null,
   "metadata": {},
   "outputs": [],
   "source": []
  }
 ],
 "metadata": {
  "kernelspec": {
   "display_name": "learn-env",
   "language": "python",
   "name": "learn-env"
  },
  "language_info": {
   "codemirror_mode": {
    "name": "ipython",
    "version": 3
   },
   "file_extension": ".py",
   "mimetype": "text/x-python",
   "name": "python",
   "nbconvert_exporter": "python",
   "pygments_lexer": "ipython3",
   "version": "3.7.1"
  }
 },
 "nbformat": 4,
 "nbformat_minor": 2
}
